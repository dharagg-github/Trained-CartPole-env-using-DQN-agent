{
  "nbformat": 4,
  "nbformat_minor": 0,
  "metadata": {
    "colab": {
      "name": "DL.ipynb",
      "provenance": [],
      "collapsed_sections": []
    },
    "kernelspec": {
      "name": "python3",
      "display_name": "Python 3"
    },
    "language_info": {
      "name": "python"
    }
  },
  "cells": [
    {
      "cell_type": "markdown",
      "source": [
        "**RL libraries that use Tensorflow as its backend**"
      ],
      "metadata": {
        "id": "BkH1Tsugkphu"
      }
    },
    {
      "cell_type": "markdown",
      "source": [
        "\n",
        "\n",
        "*   Keras RL\n",
        "*   TF - Agents\n",
        "*   Tensorforce\n",
        "*   Dopamine\n",
        "*   TRFL\n",
        "\n",
        "\n",
        "\n"
      ],
      "metadata": {
        "id": "-w43eMrk_G2s"
      }
    },
    {
      "cell_type": "markdown",
      "source": [
        "**Trained Using Keras-RL**"
      ],
      "metadata": {
        "id": "xw-jJQZU_HCx"
      }
    },
    {
      "cell_type": "code",
      "source": [
        "!pip install tensorflow==2.3.0\n",
        "!pip install gym\n",
        "!pip install keras\n",
        "!pip install keras-rl2"
      ],
      "metadata": {
        "id": "ej2-LrnRknCj",
        "colab": {
          "base_uri": "https://localhost:8080/"
        },
        "outputId": "ae9526e2-bb3d-44df-ee2b-d73814cc647f"
      },
      "execution_count": null,
      "outputs": [
        {
          "output_type": "stream",
          "name": "stdout",
          "text": [
            "Looking in indexes: https://pypi.org/simple, https://us-python.pkg.dev/colab-wheels/public/simple/\n",
            "Requirement already satisfied: tensorflow==2.3.0 in /usr/local/lib/python3.7/dist-packages (2.3.0)\n",
            "Requirement already satisfied: wrapt>=1.11.1 in /usr/local/lib/python3.7/dist-packages (from tensorflow==2.3.0) (1.14.1)\n",
            "Requirement already satisfied: grpcio>=1.8.6 in /usr/local/lib/python3.7/dist-packages (from tensorflow==2.3.0) (1.47.0)\n",
            "Requirement already satisfied: termcolor>=1.1.0 in /usr/local/lib/python3.7/dist-packages (from tensorflow==2.3.0) (1.1.0)\n",
            "Requirement already satisfied: scipy==1.4.1 in /usr/local/lib/python3.7/dist-packages (from tensorflow==2.3.0) (1.4.1)\n",
            "Requirement already satisfied: six>=1.12.0 in /usr/local/lib/python3.7/dist-packages (from tensorflow==2.3.0) (1.15.0)\n",
            "Requirement already satisfied: keras-preprocessing<1.2,>=1.1.1 in /usr/local/lib/python3.7/dist-packages (from tensorflow==2.3.0) (1.1.2)\n",
            "Requirement already satisfied: wheel>=0.26 in /usr/local/lib/python3.7/dist-packages (from tensorflow==2.3.0) (0.37.1)\n",
            "Requirement already satisfied: google-pasta>=0.1.8 in /usr/local/lib/python3.7/dist-packages (from tensorflow==2.3.0) (0.2.0)\n",
            "Requirement already satisfied: numpy<1.19.0,>=1.16.0 in /usr/local/lib/python3.7/dist-packages (from tensorflow==2.3.0) (1.18.5)\n",
            "Requirement already satisfied: absl-py>=0.7.0 in /usr/local/lib/python3.7/dist-packages (from tensorflow==2.3.0) (1.2.0)\n",
            "Requirement already satisfied: tensorboard<3,>=2.3.0 in /usr/local/lib/python3.7/dist-packages (from tensorflow==2.3.0) (2.9.1)\n",
            "Requirement already satisfied: gast==0.3.3 in /usr/local/lib/python3.7/dist-packages (from tensorflow==2.3.0) (0.3.3)\n",
            "Requirement already satisfied: h5py<2.11.0,>=2.10.0 in /usr/local/lib/python3.7/dist-packages (from tensorflow==2.3.0) (2.10.0)\n",
            "Requirement already satisfied: tensorflow-estimator<2.4.0,>=2.3.0 in /usr/local/lib/python3.7/dist-packages (from tensorflow==2.3.0) (2.3.0)\n",
            "Requirement already satisfied: opt-einsum>=2.3.2 in /usr/local/lib/python3.7/dist-packages (from tensorflow==2.3.0) (3.3.0)\n",
            "Requirement already satisfied: astunparse==1.6.3 in /usr/local/lib/python3.7/dist-packages (from tensorflow==2.3.0) (1.6.3)\n",
            "Requirement already satisfied: protobuf>=3.9.2 in /usr/local/lib/python3.7/dist-packages (from tensorflow==2.3.0) (3.17.3)\n",
            "Requirement already satisfied: tensorboard-plugin-wit>=1.6.0 in /usr/local/lib/python3.7/dist-packages (from tensorboard<3,>=2.3.0->tensorflow==2.3.0) (1.8.1)\n",
            "Requirement already satisfied: setuptools>=41.0.0 in /usr/local/lib/python3.7/dist-packages (from tensorboard<3,>=2.3.0->tensorflow==2.3.0) (57.4.0)\n",
            "Requirement already satisfied: google-auth<3,>=1.6.3 in /usr/local/lib/python3.7/dist-packages (from tensorboard<3,>=2.3.0->tensorflow==2.3.0) (1.35.0)\n",
            "Requirement already satisfied: markdown>=2.6.8 in /usr/local/lib/python3.7/dist-packages (from tensorboard<3,>=2.3.0->tensorflow==2.3.0) (3.4.1)\n",
            "Requirement already satisfied: google-auth-oauthlib<0.5,>=0.4.1 in /usr/local/lib/python3.7/dist-packages (from tensorboard<3,>=2.3.0->tensorflow==2.3.0) (0.4.6)\n",
            "Requirement already satisfied: requests<3,>=2.21.0 in /usr/local/lib/python3.7/dist-packages (from tensorboard<3,>=2.3.0->tensorflow==2.3.0) (2.23.0)\n",
            "Requirement already satisfied: werkzeug>=1.0.1 in /usr/local/lib/python3.7/dist-packages (from tensorboard<3,>=2.3.0->tensorflow==2.3.0) (1.0.1)\n",
            "Requirement already satisfied: tensorboard-data-server<0.7.0,>=0.6.0 in /usr/local/lib/python3.7/dist-packages (from tensorboard<3,>=2.3.0->tensorflow==2.3.0) (0.6.1)\n",
            "Requirement already satisfied: pyasn1-modules>=0.2.1 in /usr/local/lib/python3.7/dist-packages (from google-auth<3,>=1.6.3->tensorboard<3,>=2.3.0->tensorflow==2.3.0) (0.2.8)\n",
            "Requirement already satisfied: cachetools<5.0,>=2.0.0 in /usr/local/lib/python3.7/dist-packages (from google-auth<3,>=1.6.3->tensorboard<3,>=2.3.0->tensorflow==2.3.0) (4.2.4)\n",
            "Requirement already satisfied: rsa<5,>=3.1.4 in /usr/local/lib/python3.7/dist-packages (from google-auth<3,>=1.6.3->tensorboard<3,>=2.3.0->tensorflow==2.3.0) (4.9)\n",
            "Requirement already satisfied: requests-oauthlib>=0.7.0 in /usr/local/lib/python3.7/dist-packages (from google-auth-oauthlib<0.5,>=0.4.1->tensorboard<3,>=2.3.0->tensorflow==2.3.0) (1.3.1)\n",
            "Requirement already satisfied: importlib-metadata>=4.4 in /usr/local/lib/python3.7/dist-packages (from markdown>=2.6.8->tensorboard<3,>=2.3.0->tensorflow==2.3.0) (4.12.0)\n",
            "Requirement already satisfied: zipp>=0.5 in /usr/local/lib/python3.7/dist-packages (from importlib-metadata>=4.4->markdown>=2.6.8->tensorboard<3,>=2.3.0->tensorflow==2.3.0) (3.8.1)\n",
            "Requirement already satisfied: typing-extensions>=3.6.4 in /usr/local/lib/python3.7/dist-packages (from importlib-metadata>=4.4->markdown>=2.6.8->tensorboard<3,>=2.3.0->tensorflow==2.3.0) (4.1.1)\n",
            "Requirement already satisfied: pyasn1<0.5.0,>=0.4.6 in /usr/local/lib/python3.7/dist-packages (from pyasn1-modules>=0.2.1->google-auth<3,>=1.6.3->tensorboard<3,>=2.3.0->tensorflow==2.3.0) (0.4.8)\n",
            "Requirement already satisfied: idna<3,>=2.5 in /usr/local/lib/python3.7/dist-packages (from requests<3,>=2.21.0->tensorboard<3,>=2.3.0->tensorflow==2.3.0) (2.10)\n",
            "Requirement already satisfied: urllib3!=1.25.0,!=1.25.1,<1.26,>=1.21.1 in /usr/local/lib/python3.7/dist-packages (from requests<3,>=2.21.0->tensorboard<3,>=2.3.0->tensorflow==2.3.0) (1.24.3)\n",
            "Requirement already satisfied: chardet<4,>=3.0.2 in /usr/local/lib/python3.7/dist-packages (from requests<3,>=2.21.0->tensorboard<3,>=2.3.0->tensorflow==2.3.0) (3.0.4)\n",
            "Requirement already satisfied: certifi>=2017.4.17 in /usr/local/lib/python3.7/dist-packages (from requests<3,>=2.21.0->tensorboard<3,>=2.3.0->tensorflow==2.3.0) (2022.6.15)\n",
            "Requirement already satisfied: oauthlib>=3.0.0 in /usr/local/lib/python3.7/dist-packages (from requests-oauthlib>=0.7.0->google-auth-oauthlib<0.5,>=0.4.1->tensorboard<3,>=2.3.0->tensorflow==2.3.0) (3.2.0)\n",
            "Looking in indexes: https://pypi.org/simple, https://us-python.pkg.dev/colab-wheels/public/simple/\n",
            "Requirement already satisfied: gym in /usr/local/lib/python3.7/dist-packages (0.23.0)\n",
            "Requirement already satisfied: gym-notices>=0.0.4 in /usr/local/lib/python3.7/dist-packages (from gym) (0.0.8)\n",
            "Requirement already satisfied: numpy>=1.18.0 in /usr/local/lib/python3.7/dist-packages (from gym) (1.18.5)\n",
            "Requirement already satisfied: importlib-metadata>=4.10.0 in /usr/local/lib/python3.7/dist-packages (from gym) (4.12.0)\n",
            "Requirement already satisfied: cloudpickle>=1.2.0 in /usr/local/lib/python3.7/dist-packages (from gym) (1.5.0)\n",
            "Requirement already satisfied: zipp>=0.5 in /usr/local/lib/python3.7/dist-packages (from importlib-metadata>=4.10.0->gym) (3.8.1)\n",
            "Requirement already satisfied: typing-extensions>=3.6.4 in /usr/local/lib/python3.7/dist-packages (from importlib-metadata>=4.10.0->gym) (4.1.1)\n",
            "Looking in indexes: https://pypi.org/simple, https://us-python.pkg.dev/colab-wheels/public/simple/\n",
            "Requirement already satisfied: keras in /usr/local/lib/python3.7/dist-packages (2.9.0)\n",
            "Looking in indexes: https://pypi.org/simple, https://us-python.pkg.dev/colab-wheels/public/simple/\n",
            "Requirement already satisfied: keras-rl2 in /usr/local/lib/python3.7/dist-packages (1.0.5)\n",
            "Requirement already satisfied: tensorflow in /usr/local/lib/python3.7/dist-packages (from keras-rl2) (2.3.0)\n",
            "Requirement already satisfied: opt-einsum>=2.3.2 in /usr/local/lib/python3.7/dist-packages (from tensorflow->keras-rl2) (3.3.0)\n",
            "Requirement already satisfied: absl-py>=0.7.0 in /usr/local/lib/python3.7/dist-packages (from tensorflow->keras-rl2) (1.2.0)\n",
            "Requirement already satisfied: numpy<1.19.0,>=1.16.0 in /usr/local/lib/python3.7/dist-packages (from tensorflow->keras-rl2) (1.18.5)\n",
            "Requirement already satisfied: six>=1.12.0 in /usr/local/lib/python3.7/dist-packages (from tensorflow->keras-rl2) (1.15.0)\n",
            "Requirement already satisfied: gast==0.3.3 in /usr/local/lib/python3.7/dist-packages (from tensorflow->keras-rl2) (0.3.3)\n",
            "Requirement already satisfied: tensorboard<3,>=2.3.0 in /usr/local/lib/python3.7/dist-packages (from tensorflow->keras-rl2) (2.9.1)\n",
            "Requirement already satisfied: keras-preprocessing<1.2,>=1.1.1 in /usr/local/lib/python3.7/dist-packages (from tensorflow->keras-rl2) (1.1.2)\n",
            "Requirement already satisfied: protobuf>=3.9.2 in /usr/local/lib/python3.7/dist-packages (from tensorflow->keras-rl2) (3.17.3)\n",
            "Requirement already satisfied: wrapt>=1.11.1 in /usr/local/lib/python3.7/dist-packages (from tensorflow->keras-rl2) (1.14.1)\n",
            "Requirement already satisfied: astunparse==1.6.3 in /usr/local/lib/python3.7/dist-packages (from tensorflow->keras-rl2) (1.6.3)\n",
            "Requirement already satisfied: scipy==1.4.1 in /usr/local/lib/python3.7/dist-packages (from tensorflow->keras-rl2) (1.4.1)\n",
            "Requirement already satisfied: google-pasta>=0.1.8 in /usr/local/lib/python3.7/dist-packages (from tensorflow->keras-rl2) (0.2.0)\n",
            "Requirement already satisfied: wheel>=0.26 in /usr/local/lib/python3.7/dist-packages (from tensorflow->keras-rl2) (0.37.1)\n",
            "Requirement already satisfied: tensorflow-estimator<2.4.0,>=2.3.0 in /usr/local/lib/python3.7/dist-packages (from tensorflow->keras-rl2) (2.3.0)\n",
            "Requirement already satisfied: h5py<2.11.0,>=2.10.0 in /usr/local/lib/python3.7/dist-packages (from tensorflow->keras-rl2) (2.10.0)\n",
            "Requirement already satisfied: grpcio>=1.8.6 in /usr/local/lib/python3.7/dist-packages (from tensorflow->keras-rl2) (1.47.0)\n",
            "Requirement already satisfied: termcolor>=1.1.0 in /usr/local/lib/python3.7/dist-packages (from tensorflow->keras-rl2) (1.1.0)\n",
            "Requirement already satisfied: google-auth<3,>=1.6.3 in /usr/local/lib/python3.7/dist-packages (from tensorboard<3,>=2.3.0->tensorflow->keras-rl2) (1.35.0)\n",
            "Requirement already satisfied: google-auth-oauthlib<0.5,>=0.4.1 in /usr/local/lib/python3.7/dist-packages (from tensorboard<3,>=2.3.0->tensorflow->keras-rl2) (0.4.6)\n",
            "Requirement already satisfied: setuptools>=41.0.0 in /usr/local/lib/python3.7/dist-packages (from tensorboard<3,>=2.3.0->tensorflow->keras-rl2) (57.4.0)\n",
            "Requirement already satisfied: requests<3,>=2.21.0 in /usr/local/lib/python3.7/dist-packages (from tensorboard<3,>=2.3.0->tensorflow->keras-rl2) (2.23.0)\n",
            "Requirement already satisfied: tensorboard-plugin-wit>=1.6.0 in /usr/local/lib/python3.7/dist-packages (from tensorboard<3,>=2.3.0->tensorflow->keras-rl2) (1.8.1)\n",
            "Requirement already satisfied: werkzeug>=1.0.1 in /usr/local/lib/python3.7/dist-packages (from tensorboard<3,>=2.3.0->tensorflow->keras-rl2) (1.0.1)\n",
            "Requirement already satisfied: markdown>=2.6.8 in /usr/local/lib/python3.7/dist-packages (from tensorboard<3,>=2.3.0->tensorflow->keras-rl2) (3.4.1)\n",
            "Requirement already satisfied: tensorboard-data-server<0.7.0,>=0.6.0 in /usr/local/lib/python3.7/dist-packages (from tensorboard<3,>=2.3.0->tensorflow->keras-rl2) (0.6.1)\n",
            "Requirement already satisfied: cachetools<5.0,>=2.0.0 in /usr/local/lib/python3.7/dist-packages (from google-auth<3,>=1.6.3->tensorboard<3,>=2.3.0->tensorflow->keras-rl2) (4.2.4)\n",
            "Requirement already satisfied: rsa<5,>=3.1.4 in /usr/local/lib/python3.7/dist-packages (from google-auth<3,>=1.6.3->tensorboard<3,>=2.3.0->tensorflow->keras-rl2) (4.9)\n",
            "Requirement already satisfied: pyasn1-modules>=0.2.1 in /usr/local/lib/python3.7/dist-packages (from google-auth<3,>=1.6.3->tensorboard<3,>=2.3.0->tensorflow->keras-rl2) (0.2.8)\n",
            "Requirement already satisfied: requests-oauthlib>=0.7.0 in /usr/local/lib/python3.7/dist-packages (from google-auth-oauthlib<0.5,>=0.4.1->tensorboard<3,>=2.3.0->tensorflow->keras-rl2) (1.3.1)\n",
            "Requirement already satisfied: importlib-metadata>=4.4 in /usr/local/lib/python3.7/dist-packages (from markdown>=2.6.8->tensorboard<3,>=2.3.0->tensorflow->keras-rl2) (4.12.0)\n",
            "Requirement already satisfied: typing-extensions>=3.6.4 in /usr/local/lib/python3.7/dist-packages (from importlib-metadata>=4.4->markdown>=2.6.8->tensorboard<3,>=2.3.0->tensorflow->keras-rl2) (4.1.1)\n",
            "Requirement already satisfied: zipp>=0.5 in /usr/local/lib/python3.7/dist-packages (from importlib-metadata>=4.4->markdown>=2.6.8->tensorboard<3,>=2.3.0->tensorflow->keras-rl2) (3.8.1)\n",
            "Requirement already satisfied: pyasn1<0.5.0,>=0.4.6 in /usr/local/lib/python3.7/dist-packages (from pyasn1-modules>=0.2.1->google-auth<3,>=1.6.3->tensorboard<3,>=2.3.0->tensorflow->keras-rl2) (0.4.8)\n",
            "Requirement already satisfied: chardet<4,>=3.0.2 in /usr/local/lib/python3.7/dist-packages (from requests<3,>=2.21.0->tensorboard<3,>=2.3.0->tensorflow->keras-rl2) (3.0.4)\n",
            "Requirement already satisfied: urllib3!=1.25.0,!=1.25.1,<1.26,>=1.21.1 in /usr/local/lib/python3.7/dist-packages (from requests<3,>=2.21.0->tensorboard<3,>=2.3.0->tensorflow->keras-rl2) (1.24.3)\n",
            "Requirement already satisfied: idna<3,>=2.5 in /usr/local/lib/python3.7/dist-packages (from requests<3,>=2.21.0->tensorboard<3,>=2.3.0->tensorflow->keras-rl2) (2.10)\n",
            "Requirement already satisfied: certifi>=2017.4.17 in /usr/local/lib/python3.7/dist-packages (from requests<3,>=2.21.0->tensorboard<3,>=2.3.0->tensorflow->keras-rl2) (2022.6.15)\n",
            "Requirement already satisfied: oauthlib>=3.0.0 in /usr/local/lib/python3.7/dist-packages (from requests-oauthlib>=0.7.0->google-auth-oauthlib<0.5,>=0.4.1->tensorboard<3,>=2.3.0->tensorflow->keras-rl2) (3.2.0)\n"
          ]
        }
      ]
    },
    {
      "cell_type": "code",
      "source": [
        "import gym\n",
        "\n",
        "# Load the CartPole environment from the OpenAI Gym suite\n",
        "ENV_NAME = 'CartPole-v0'\n",
        "env = gym.make(ENV_NAME)"
      ],
      "metadata": {
        "id": "ekWJnb60AHQr"
      },
      "execution_count": null,
      "outputs": []
    },
    {
      "cell_type": "code",
      "source": [
        "# Create a Deep Learning Model with Keras\n",
        "\n",
        "import numpy as np\n",
        "from tensorflow.keras.models import Sequential\n",
        "from tensorflow.keras.layers import Dense, Flatten, Input\n",
        "from tensorflow.keras.optimizers import Adam"
      ],
      "metadata": {
        "id": "BdjD0WDGuE3P"
      },
      "execution_count": null,
      "outputs": []
    },
    {
      "cell_type": "code",
      "source": [
        "states = env.observation_space.shape\n",
        "actions = env.action_space.n\n",
        "actions"
      ],
      "metadata": {
        "colab": {
          "base_uri": "https://localhost:8080/"
        },
        "id": "2RY5tgesuSO2",
        "outputId": "8e8bd73e-ed34-4c6d-a00a-dcffbef2f73d"
      },
      "execution_count": null,
      "outputs": [
        {
          "output_type": "execute_result",
          "data": {
            "text/plain": [
              "2"
            ]
          },
          "metadata": {},
          "execution_count": 37
        }
      ]
    },
    {
      "cell_type": "code",
      "source": [
        "import rl\n",
        "from rl.memory import SequentialMemory\n",
        "from rl.agents.dqn import DQNAgent\n",
        "from rl.policy import LinearAnnealedPolicy, EpsGreedyQPolicy\n",
        "\n",
        "# setup experience replay buffer\n",
        "memory = SequentialMemory(limit=50000, window_length=1)\n",
        "\n",
        "# setup the Linear annealed policy with the EpsGreedyQPolicy as the inner policy\n",
        "policy =  LinearAnnealedPolicy(inner_policy=  EpsGreedyQPolicy(),   # policy used to select actions\n",
        "                               attr='eps',                          # attribute in the inner policy to vary             \n",
        "                               value_max=1.0,                       # maximum value of attribute that is varying\n",
        "                               value_min=0.1,                       # minimum value of attribute that is varying\n",
        "                               value_test=0.05,                     # test if the value selected is < 0.05\n",
        "                               nb_steps=10000)                      # the number of steps between value_max and value_min\n"
      ],
      "metadata": {
        "id": "kZLMGWW_u_Oo"
      },
      "execution_count": null,
      "outputs": []
    },
    {
      "cell_type": "code",
      "source": [
        "  #Feed-Forward Neural Network Model for Deep Q Learning (DQN)\n",
        "  model = Sequential()\n",
        "  #Input is 1 observation vector, and the number of observations in that vector \n",
        "  model.add(Input(shape=(1,states[0])))  \n",
        "  model.add(Flatten())\n",
        "  #Hidden layers with 24 nodes each\n",
        "  model.add(Dense(24, activation='relu'))\n",
        "  model.add(Dense(24, activation='relu'))\n",
        "  #Output is the number of actions in the action space\n",
        "  model.add(Dense(actions, activation='linear'))"
      ],
      "metadata": {
        "id": "vA2Uo6lavIxu"
      },
      "execution_count": null,
      "outputs": []
    },
    {
      "cell_type": "code",
      "source": [
        "#Feed-Forward Neural Network Architecture Summary\n",
        "print(model.summary())"
      ],
      "metadata": {
        "colab": {
          "base_uri": "https://localhost:8080/"
        },
        "id": "QLB9Mfp4vM4T",
        "outputId": "25d07f20-70e4-430c-eecf-c01d6284eb27"
      },
      "execution_count": null,
      "outputs": [
        {
          "output_type": "stream",
          "name": "stdout",
          "text": [
            "Model: \"sequential_3\"\n",
            "_________________________________________________________________\n",
            " Layer (type)                Output Shape              Param #   \n",
            "=================================================================\n",
            " flatten_3 (Flatten)         (None, 4)                 0         \n",
            "                                                                 \n",
            " dense_9 (Dense)             (None, 24)                120       \n",
            "                                                                 \n",
            " dense_10 (Dense)            (None, 24)                600       \n",
            "                                                                 \n",
            " dense_11 (Dense)            (None, 2)                 50        \n",
            "                                                                 \n",
            "=================================================================\n",
            "Total params: 770\n",
            "Trainable params: 770\n",
            "Non-trainable params: 0\n",
            "_________________________________________________________________\n",
            "None\n"
          ]
        }
      ]
    },
    {
      "cell_type": "code",
      "source": [
        "dqn = DQNAgent(model=model,                     # Q-Network model\n",
        "               nb_actions=env.action_space.n,   # number of actions\n",
        "               memory=memory,                   # experience replay memory\n",
        "               nb_steps_warmup=25,              # how many steps are waited before starting experience replay\n",
        "               target_model_update=1e-2,        # how often the target network is updated\n",
        "               policy=policy)                   # the action selection policy\n",
        "\n",
        "# Finally, we configure and compile our agent. \n",
        "#We can use built-in tensorflow.keras Adam optimizer and evaluation metrics            \n",
        "from tensorflow.keras.optimizers import Adam\n",
        "dqn.compile(Adam(learning_rate=1e-3), metrics=['mae','accuracy'])\n",
        "\n",
        "#Finally fit and train the agent\n",
        "history = dqn.fit(env, nb_steps=50000, visualize=False, verbose=2)"
      ],
      "metadata": {
        "colab": {
          "base_uri": "https://localhost:8080/"
        },
        "id": "1QoX1sAt7bZ7",
        "outputId": "a6fae05a-e3fc-4f06-9d3e-aa96228c119a"
      },
      "execution_count": null,
      "outputs": [
        {
          "output_type": "stream",
          "name": "stdout",
          "text": [
            "Training for 50000 steps ...\n",
            "    21/50000: episode: 1, duration: 0.216s, episode steps:  21, steps per second:  97, episode reward: 21.000, mean reward:  1.000 [ 1.000,  1.000], mean action: 0.333 [0.000, 1.000],  loss: --, mae: --, accuracy: --, mean_q: --, mean_eps: --\n"
          ]
        },
        {
          "output_type": "stream",
          "name": "stderr",
          "text": [
            "/usr/local/lib/python3.7/dist-packages/rl/memory.py:37: UserWarning: Not enough entries to sample without replacement. Consider increasing your warm-up phase to avoid oversampling!\n",
            "  warnings.warn('Not enough entries to sample without replacement. Consider increasing your warm-up phase to avoid oversampling!')\n",
            "/usr/local/lib/python3.7/dist-packages/keras/engine/training_v1.py:2067: UserWarning: `Model.state_updates` will be removed in a future version. This property should not be used in TensorFlow 2.0, as `updates` are applied automatically.\n",
            "  updates=self.state_updates,\n"
          ]
        },
        {
          "output_type": "stream",
          "name": "stdout",
          "text": [
            "    52/50000: episode: 2, duration: 1.321s, episode steps:  31, steps per second:  23, episode reward: 31.000, mean reward:  1.000 [ 1.000,  1.000], mean action: 0.484 [0.000, 1.000],  loss: 0.382178, mae: 0.524620, accuracy: 0.602163, mean_q: 0.276348, mean_eps: 0.996535\n",
            "    85/50000: episode: 3, duration: 0.290s, episode steps:  33, steps per second: 114, episode reward: 33.000, mean reward:  1.000 [ 1.000,  1.000], mean action: 0.576 [0.000, 1.000],  loss: 0.211268, mae: 0.571418, accuracy: 0.569129, mean_q: 0.642619, mean_eps: 0.993880\n",
            "   109/50000: episode: 4, duration: 0.213s, episode steps:  24, steps per second: 113, episode reward: 24.000, mean reward:  1.000 [ 1.000,  1.000], mean action: 0.458 [0.000, 1.000],  loss: 0.117272, mae: 0.671862, accuracy: 0.519531, mean_q: 1.039756, mean_eps: 0.991315\n",
            "   130/50000: episode: 5, duration: 0.183s, episode steps:  21, steps per second: 115, episode reward: 21.000, mean reward:  1.000 [ 1.000,  1.000], mean action: 0.619 [0.000, 1.000],  loss: 0.072073, mae: 0.753317, accuracy: 0.519345, mean_q: 1.262310, mean_eps: 0.989290\n",
            "   181/50000: episode: 6, duration: 0.500s, episode steps:  51, steps per second: 102, episode reward: 51.000, mean reward:  1.000 [ 1.000,  1.000], mean action: 0.412 [0.000, 1.000],  loss: 0.052429, mae: 0.862318, accuracy: 0.466299, mean_q: 1.552103, mean_eps: 0.986050\n",
            "   198/50000: episode: 7, duration: 0.151s, episode steps:  17, steps per second: 112, episode reward: 17.000, mean reward:  1.000 [ 1.000,  1.000], mean action: 0.412 [0.000, 1.000],  loss: 0.042948, mae: 0.972396, accuracy: 0.511029, mean_q: 1.823087, mean_eps: 0.982990\n",
            "   214/50000: episode: 8, duration: 0.151s, episode steps:  16, steps per second: 106, episode reward: 16.000, mean reward:  1.000 [ 1.000,  1.000], mean action: 0.375 [0.000, 1.000],  loss: 0.060731, mae: 1.041475, accuracy: 0.544922, mean_q: 1.974333, mean_eps: 0.981505\n",
            "   245/50000: episode: 9, duration: 0.293s, episode steps:  31, steps per second: 106, episode reward: 31.000, mean reward:  1.000 [ 1.000,  1.000], mean action: 0.419 [0.000, 1.000],  loss: 0.058130, mae: 1.134511, accuracy: 0.518145, mean_q: 2.220639, mean_eps: 0.979390\n",
            "   271/50000: episode: 10, duration: 0.255s, episode steps:  26, steps per second: 102, episode reward: 26.000, mean reward:  1.000 [ 1.000,  1.000], mean action: 0.615 [0.000, 1.000],  loss: 0.074464, mae: 1.244808, accuracy: 0.522837, mean_q: 2.382635, mean_eps: 0.976825\n",
            "   296/50000: episode: 11, duration: 0.230s, episode steps:  25, steps per second: 109, episode reward: 25.000, mean reward:  1.000 [ 1.000,  1.000], mean action: 0.600 [0.000, 1.000],  loss: 0.057874, mae: 1.349201, accuracy: 0.520000, mean_q: 2.672907, mean_eps: 0.974530\n",
            "   311/50000: episode: 12, duration: 0.129s, episode steps:  15, steps per second: 116, episode reward: 15.000, mean reward:  1.000 [ 1.000,  1.000], mean action: 0.467 [0.000, 1.000],  loss: 0.074024, mae: 1.433786, accuracy: 0.562500, mean_q: 2.805361, mean_eps: 0.972730\n",
            "   322/50000: episode: 13, duration: 0.107s, episode steps:  11, steps per second: 102, episode reward: 11.000, mean reward:  1.000 [ 1.000,  1.000], mean action: 0.364 [0.000, 1.000],  loss: 0.104545, mae: 1.512178, accuracy: 0.505682, mean_q: 2.968149, mean_eps: 0.971560\n",
            "   381/50000: episode: 14, duration: 0.526s, episode steps:  59, steps per second: 112, episode reward: 59.000, mean reward:  1.000 [ 1.000,  1.000], mean action: 0.508 [0.000, 1.000],  loss: 0.102654, mae: 1.644168, accuracy: 0.516949, mean_q: 3.176493, mean_eps: 0.968410\n",
            "   407/50000: episode: 15, duration: 0.229s, episode steps:  26, steps per second: 114, episode reward: 26.000, mean reward:  1.000 [ 1.000,  1.000], mean action: 0.538 [0.000, 1.000],  loss: 0.135279, mae: 1.827179, accuracy: 0.481971, mean_q: 3.495145, mean_eps: 0.964585\n",
            "   420/50000: episode: 16, duration: 0.114s, episode steps:  13, steps per second: 114, episode reward: 13.000, mean reward:  1.000 [ 1.000,  1.000], mean action: 0.231 [0.000, 1.000],  loss: 0.160261, mae: 1.906927, accuracy: 0.487981, mean_q: 3.621613, mean_eps: 0.962830\n",
            "   438/50000: episode: 17, duration: 0.159s, episode steps:  18, steps per second: 113, episode reward: 18.000, mean reward:  1.000 [ 1.000,  1.000], mean action: 0.444 [0.000, 1.000],  loss: 0.145223, mae: 1.969402, accuracy: 0.512153, mean_q: 3.781705, mean_eps: 0.961435\n",
            "   454/50000: episode: 18, duration: 0.145s, episode steps:  16, steps per second: 111, episode reward: 16.000, mean reward:  1.000 [ 1.000,  1.000], mean action: 0.438 [0.000, 1.000],  loss: 0.170808, mae: 2.030881, accuracy: 0.509766, mean_q: 3.840931, mean_eps: 0.959905\n",
            "   481/50000: episode: 19, duration: 0.250s, episode steps:  27, steps per second: 108, episode reward: 27.000, mean reward:  1.000 [ 1.000,  1.000], mean action: 0.667 [0.000, 1.000],  loss: 0.153018, mae: 2.121808, accuracy: 0.512731, mean_q: 4.064517, mean_eps: 0.957970\n",
            "   544/50000: episode: 20, duration: 0.553s, episode steps:  63, steps per second: 114, episode reward: 63.000, mean reward:  1.000 [ 1.000,  1.000], mean action: 0.508 [0.000, 1.000],  loss: 0.161925, mae: 2.301108, accuracy: 0.518353, mean_q: 4.434967, mean_eps: 0.953920\n",
            "   556/50000: episode: 21, duration: 0.110s, episode steps:  12, steps per second: 109, episode reward: 12.000, mean reward:  1.000 [ 1.000,  1.000], mean action: 0.667 [0.000, 1.000],  loss: 0.241428, mae: 2.475086, accuracy: 0.531250, mean_q: 4.750457, mean_eps: 0.950545\n",
            "   568/50000: episode: 22, duration: 0.119s, episode steps:  12, steps per second: 101, episode reward: 12.000, mean reward:  1.000 [ 1.000,  1.000], mean action: 0.667 [0.000, 1.000],  loss: 0.186652, mae: 2.498573, accuracy: 0.505208, mean_q: 4.815376, mean_eps: 0.949465\n",
            "   594/50000: episode: 23, duration: 0.249s, episode steps:  26, steps per second: 105, episode reward: 26.000, mean reward:  1.000 [ 1.000,  1.000], mean action: 0.423 [0.000, 1.000],  loss: 0.261409, mae: 2.582465, accuracy: 0.524038, mean_q: 4.947269, mean_eps: 0.947755\n",
            "   613/50000: episode: 24, duration: 0.166s, episode steps:  19, steps per second: 115, episode reward: 19.000, mean reward:  1.000 [ 1.000,  1.000], mean action: 0.579 [0.000, 1.000],  loss: 0.264796, mae: 2.699774, accuracy: 0.501645, mean_q: 5.221606, mean_eps: 0.945730\n",
            "   645/50000: episode: 25, duration: 0.281s, episode steps:  32, steps per second: 114, episode reward: 32.000, mean reward:  1.000 [ 1.000,  1.000], mean action: 0.594 [0.000, 1.000],  loss: 0.258598, mae: 2.797499, accuracy: 0.492188, mean_q: 5.380985, mean_eps: 0.943435\n",
            "   664/50000: episode: 26, duration: 0.164s, episode steps:  19, steps per second: 116, episode reward: 19.000, mean reward:  1.000 [ 1.000,  1.000], mean action: 0.526 [0.000, 1.000],  loss: 0.231915, mae: 2.912217, accuracy: 0.501645, mean_q: 5.600846, mean_eps: 0.941140\n",
            "   673/50000: episode: 27, duration: 0.088s, episode steps:   9, steps per second: 103, episode reward:  9.000, mean reward:  1.000 [ 1.000,  1.000], mean action: 1.000 [1.000, 1.000],  loss: 0.266105, mae: 2.958193, accuracy: 0.534722, mean_q: 5.703170, mean_eps: 0.939880\n",
            "   728/50000: episode: 28, duration: 0.505s, episode steps:  55, steps per second: 109, episode reward: 55.000, mean reward:  1.000 [ 1.000,  1.000], mean action: 0.564 [0.000, 1.000],  loss: 0.301480, mae: 3.080473, accuracy: 0.517614, mean_q: 5.922656, mean_eps: 0.937000\n",
            "   767/50000: episode: 29, duration: 0.359s, episode steps:  39, steps per second: 109, episode reward: 39.000, mean reward:  1.000 [ 1.000,  1.000], mean action: 0.436 [0.000, 1.000],  loss: 0.303773, mae: 3.277295, accuracy: 0.489583, mean_q: 6.371235, mean_eps: 0.932770\n",
            "   793/50000: episode: 30, duration: 0.256s, episode steps:  26, steps per second: 101, episode reward: 26.000, mean reward:  1.000 [ 1.000,  1.000], mean action: 0.500 [0.000, 1.000],  loss: 0.270066, mae: 3.402902, accuracy: 0.507212, mean_q: 6.624657, mean_eps: 0.929845\n",
            "   810/50000: episode: 31, duration: 0.162s, episode steps:  17, steps per second: 105, episode reward: 17.000, mean reward:  1.000 [ 1.000,  1.000], mean action: 0.647 [0.000, 1.000],  loss: 0.435024, mae: 3.511983, accuracy: 0.468750, mean_q: 6.795374, mean_eps: 0.927910\n",
            "   834/50000: episode: 32, duration: 0.254s, episode steps:  24, steps per second:  95, episode reward: 24.000, mean reward:  1.000 [ 1.000,  1.000], mean action: 0.542 [0.000, 1.000],  loss: 0.352065, mae: 3.586391, accuracy: 0.494792, mean_q: 6.946915, mean_eps: 0.926065\n",
            "   852/50000: episode: 33, duration: 0.179s, episode steps:  18, steps per second: 101, episode reward: 18.000, mean reward:  1.000 [ 1.000,  1.000], mean action: 0.556 [0.000, 1.000],  loss: 0.435810, mae: 3.661395, accuracy: 0.519097, mean_q: 7.100859, mean_eps: 0.924175\n",
            "   887/50000: episode: 34, duration: 0.332s, episode steps:  35, steps per second: 106, episode reward: 35.000, mean reward:  1.000 [ 1.000,  1.000], mean action: 0.571 [0.000, 1.000],  loss: 0.425976, mae: 3.761666, accuracy: 0.514286, mean_q: 7.271000, mean_eps: 0.921790\n",
            "   903/50000: episode: 35, duration: 0.155s, episode steps:  16, steps per second: 103, episode reward: 16.000, mean reward:  1.000 [ 1.000,  1.000], mean action: 0.625 [0.000, 1.000],  loss: 0.557137, mae: 3.873837, accuracy: 0.541016, mean_q: 7.515607, mean_eps: 0.919495\n",
            "   914/50000: episode: 36, duration: 0.108s, episode steps:  11, steps per second: 102, episode reward: 11.000, mean reward:  1.000 [ 1.000,  1.000], mean action: 0.273 [0.000, 1.000],  loss: 0.554837, mae: 3.903594, accuracy: 0.511364, mean_q: 7.588157, mean_eps: 0.918280\n",
            "   935/50000: episode: 37, duration: 0.200s, episode steps:  21, steps per second: 105, episode reward: 21.000, mean reward:  1.000 [ 1.000,  1.000], mean action: 0.619 [0.000, 1.000],  loss: 0.555937, mae: 3.984213, accuracy: 0.516369, mean_q: 7.725422, mean_eps: 0.916840\n",
            "   964/50000: episode: 38, duration: 0.270s, episode steps:  29, steps per second: 107, episode reward: 29.000, mean reward:  1.000 [ 1.000,  1.000], mean action: 0.552 [0.000, 1.000],  loss: 0.344333, mae: 4.114134, accuracy: 0.546336, mean_q: 8.068471, mean_eps: 0.914590\n",
            "   994/50000: episode: 39, duration: 0.265s, episode steps:  30, steps per second: 113, episode reward: 30.000, mean reward:  1.000 [ 1.000,  1.000], mean action: 0.467 [0.000, 1.000],  loss: 0.373919, mae: 4.195842, accuracy: 0.558333, mean_q: 8.282135, mean_eps: 0.911935\n",
            "  1031/50000: episode: 40, duration: 0.340s, episode steps:  37, steps per second: 109, episode reward: 37.000, mean reward:  1.000 [ 1.000,  1.000], mean action: 0.541 [0.000, 1.000],  loss: 0.627717, mae: 4.357964, accuracy: 0.522804, mean_q: 8.496204, mean_eps: 0.908920\n",
            "  1046/50000: episode: 41, duration: 0.132s, episode steps:  15, steps per second: 114, episode reward: 15.000, mean reward:  1.000 [ 1.000,  1.000], mean action: 0.667 [0.000, 1.000],  loss: 0.484728, mae: 4.455776, accuracy: 0.535417, mean_q: 8.734217, mean_eps: 0.906580\n",
            "  1080/50000: episode: 42, duration: 0.306s, episode steps:  34, steps per second: 111, episode reward: 34.000, mean reward:  1.000 [ 1.000,  1.000], mean action: 0.471 [0.000, 1.000],  loss: 0.461593, mae: 4.537995, accuracy: 0.539522, mean_q: 8.930470, mean_eps: 0.904375\n",
            "  1094/50000: episode: 43, duration: 0.128s, episode steps:  14, steps per second: 110, episode reward: 14.000, mean reward:  1.000 [ 1.000,  1.000], mean action: 0.286 [0.000, 1.000],  loss: 0.768430, mae: 4.666719, accuracy: 0.564732, mean_q: 9.149852, mean_eps: 0.902215\n",
            "  1110/50000: episode: 44, duration: 0.167s, episode steps:  16, steps per second:  96, episode reward: 16.000, mean reward:  1.000 [ 1.000,  1.000], mean action: 0.750 [0.000, 1.000],  loss: 0.567784, mae: 4.687193, accuracy: 0.533203, mean_q: 9.294916, mean_eps: 0.900865\n",
            "  1150/50000: episode: 45, duration: 0.355s, episode steps:  40, steps per second: 113, episode reward: 40.000, mean reward:  1.000 [ 1.000,  1.000], mean action: 0.525 [0.000, 1.000],  loss: 0.682477, mae: 4.808545, accuracy: 0.526563, mean_q: 9.428862, mean_eps: 0.898345\n",
            "  1172/50000: episode: 46, duration: 0.192s, episode steps:  22, steps per second: 115, episode reward: 22.000, mean reward:  1.000 [ 1.000,  1.000], mean action: 0.500 [0.000, 1.000],  loss: 0.691850, mae: 4.925726, accuracy: 0.522727, mean_q: 9.657644, mean_eps: 0.895555\n",
            "  1193/50000: episode: 47, duration: 0.196s, episode steps:  21, steps per second: 107, episode reward: 21.000, mean reward:  1.000 [ 1.000,  1.000], mean action: 0.476 [0.000, 1.000],  loss: 0.548280, mae: 5.069814, accuracy: 0.526786, mean_q: 10.024098, mean_eps: 0.893620\n",
            "  1225/50000: episode: 48, duration: 0.287s, episode steps:  32, steps per second: 111, episode reward: 32.000, mean reward:  1.000 [ 1.000,  1.000], mean action: 0.375 [0.000, 1.000],  loss: 0.637138, mae: 5.145702, accuracy: 0.525391, mean_q: 10.172156, mean_eps: 0.891235\n",
            "  1236/50000: episode: 49, duration: 0.106s, episode steps:  11, steps per second: 103, episode reward: 11.000, mean reward:  1.000 [ 1.000,  1.000], mean action: 0.182 [0.000, 1.000],  loss: 0.740084, mae: 5.283192, accuracy: 0.528409, mean_q: 10.446729, mean_eps: 0.889300\n",
            "  1255/50000: episode: 50, duration: 0.200s, episode steps:  19, steps per second:  95, episode reward: 19.000, mean reward:  1.000 [ 1.000,  1.000], mean action: 0.526 [0.000, 1.000],  loss: 0.850865, mae: 5.337660, accuracy: 0.536184, mean_q: 10.448979, mean_eps: 0.887950\n",
            "  1280/50000: episode: 51, duration: 0.243s, episode steps:  25, steps per second: 103, episode reward: 25.000, mean reward:  1.000 [ 1.000,  1.000], mean action: 0.520 [0.000, 1.000],  loss: 0.630908, mae: 5.399957, accuracy: 0.525000, mean_q: 10.738859, mean_eps: 0.885970\n",
            "  1320/50000: episode: 52, duration: 0.397s, episode steps:  40, steps per second: 101, episode reward: 40.000, mean reward:  1.000 [ 1.000,  1.000], mean action: 0.450 [0.000, 1.000],  loss: 0.972667, mae: 5.507044, accuracy: 0.523438, mean_q: 10.806477, mean_eps: 0.883045\n",
            "  1336/50000: episode: 53, duration: 0.149s, episode steps:  16, steps per second: 108, episode reward: 16.000, mean reward:  1.000 [ 1.000,  1.000], mean action: 0.562 [0.000, 1.000],  loss: 0.885164, mae: 5.592003, accuracy: 0.548828, mean_q: 11.041970, mean_eps: 0.880525\n",
            "  1351/50000: episode: 54, duration: 0.149s, episode steps:  15, steps per second: 101, episode reward: 15.000, mean reward:  1.000 [ 1.000,  1.000], mean action: 0.733 [0.000, 1.000],  loss: 0.747555, mae: 5.697714, accuracy: 0.514583, mean_q: 11.269056, mean_eps: 0.879130\n",
            "  1407/50000: episode: 55, duration: 0.490s, episode steps:  56, steps per second: 114, episode reward: 56.000, mean reward:  1.000 [ 1.000,  1.000], mean action: 0.500 [0.000, 1.000],  loss: 0.771668, mae: 5.845149, accuracy: 0.532366, mean_q: 11.544051, mean_eps: 0.875935\n",
            "  1456/50000: episode: 56, duration: 0.452s, episode steps:  49, steps per second: 108, episode reward: 49.000, mean reward:  1.000 [ 1.000,  1.000], mean action: 0.510 [0.000, 1.000],  loss: 0.813045, mae: 6.039915, accuracy: 0.534439, mean_q: 12.046434, mean_eps: 0.871210\n",
            "  1537/50000: episode: 57, duration: 0.708s, episode steps:  81, steps per second: 114, episode reward: 81.000, mean reward:  1.000 [ 1.000,  1.000], mean action: 0.531 [0.000, 1.000],  loss: 0.960970, mae: 6.316034, accuracy: 0.524306, mean_q: 12.517272, mean_eps: 0.865360\n",
            "  1552/50000: episode: 58, duration: 0.137s, episode steps:  15, steps per second: 110, episode reward: 15.000, mean reward:  1.000 [ 1.000,  1.000], mean action: 0.333 [0.000, 1.000],  loss: 0.741650, mae: 6.519094, accuracy: 0.552083, mean_q: 12.987126, mean_eps: 0.861040\n",
            "  1586/50000: episode: 59, duration: 0.316s, episode steps:  34, steps per second: 107, episode reward: 34.000, mean reward:  1.000 [ 1.000,  1.000], mean action: 0.529 [0.000, 1.000],  loss: 1.199134, mae: 6.613256, accuracy: 0.530331, mean_q: 13.103762, mean_eps: 0.858835\n",
            "  1597/50000: episode: 60, duration: 0.106s, episode steps:  11, steps per second: 104, episode reward: 11.000, mean reward:  1.000 [ 1.000,  1.000], mean action: 0.273 [0.000, 1.000],  loss: 1.076652, mae: 6.695233, accuracy: 0.562500, mean_q: 13.234777, mean_eps: 0.856810\n",
            "  1612/50000: episode: 61, duration: 0.139s, episode steps:  15, steps per second: 108, episode reward: 15.000, mean reward:  1.000 [ 1.000,  1.000], mean action: 0.667 [0.000, 1.000],  loss: 0.841575, mae: 6.724961, accuracy: 0.539583, mean_q: 13.467125, mean_eps: 0.855640\n",
            "  1636/50000: episode: 62, duration: 0.231s, episode steps:  24, steps per second: 104, episode reward: 24.000, mean reward:  1.000 [ 1.000,  1.000], mean action: 0.458 [0.000, 1.000],  loss: 1.241837, mae: 6.848566, accuracy: 0.558594, mean_q: 13.554949, mean_eps: 0.853885\n",
            "  1702/50000: episode: 63, duration: 0.608s, episode steps:  66, steps per second: 109, episode reward: 66.000, mean reward:  1.000 [ 1.000,  1.000], mean action: 0.439 [0.000, 1.000],  loss: 1.119465, mae: 6.949708, accuracy: 0.529356, mean_q: 13.861141, mean_eps: 0.849835\n",
            "  1716/50000: episode: 64, duration: 0.132s, episode steps:  14, steps per second: 106, episode reward: 14.000, mean reward:  1.000 [ 1.000,  1.000], mean action: 0.286 [0.000, 1.000],  loss: 0.902249, mae: 7.113492, accuracy: 0.553571, mean_q: 14.305159, mean_eps: 0.846235\n",
            "  1757/50000: episode: 65, duration: 0.384s, episode steps:  41, steps per second: 107, episode reward: 41.000, mean reward:  1.000 [ 1.000,  1.000], mean action: 0.585 [0.000, 1.000],  loss: 0.897788, mae: 7.283968, accuracy: 0.524390, mean_q: 14.638623, mean_eps: 0.843760\n",
            "  1772/50000: episode: 66, duration: 0.142s, episode steps:  15, steps per second: 106, episode reward: 15.000, mean reward:  1.000 [ 1.000,  1.000], mean action: 0.600 [0.000, 1.000],  loss: 1.737417, mae: 7.455737, accuracy: 0.566667, mean_q: 14.802200, mean_eps: 0.841240\n",
            "  1804/50000: episode: 67, duration: 0.302s, episode steps:  32, steps per second: 106, episode reward: 32.000, mean reward:  1.000 [ 1.000,  1.000], mean action: 0.531 [0.000, 1.000],  loss: 1.721166, mae: 7.470983, accuracy: 0.541016, mean_q: 14.825296, mean_eps: 0.839125\n",
            "  1827/50000: episode: 68, duration: 0.233s, episode steps:  23, steps per second:  99, episode reward: 23.000, mean reward:  1.000 [ 1.000,  1.000], mean action: 0.435 [0.000, 1.000],  loss: 1.549398, mae: 7.550181, accuracy: 0.544837, mean_q: 14.953695, mean_eps: 0.836650\n",
            "  1873/50000: episode: 69, duration: 0.424s, episode steps:  46, steps per second: 109, episode reward: 46.000, mean reward:  1.000 [ 1.000,  1.000], mean action: 0.457 [0.000, 1.000],  loss: 1.175645, mae: 7.729631, accuracy: 0.527853, mean_q: 15.402141, mean_eps: 0.833545\n",
            "  1890/50000: episode: 70, duration: 0.156s, episode steps:  17, steps per second: 109, episode reward: 17.000, mean reward:  1.000 [ 1.000,  1.000], mean action: 0.471 [0.000, 1.000],  loss: 1.378900, mae: 7.836438, accuracy: 0.586397, mean_q: 15.666079, mean_eps: 0.830710\n",
            "  1960/50000: episode: 71, duration: 0.678s, episode steps:  70, steps per second: 103, episode reward: 70.000, mean reward:  1.000 [ 1.000,  1.000], mean action: 0.486 [0.000, 1.000],  loss: 1.053225, mae: 8.017474, accuracy: 0.535714, mean_q: 16.164288, mean_eps: 0.826795\n",
            "  1998/50000: episode: 72, duration: 0.341s, episode steps:  38, steps per second: 111, episode reward: 38.000, mean reward:  1.000 [ 1.000,  1.000], mean action: 0.395 [0.000, 1.000],  loss: 1.274326, mae: 8.183895, accuracy: 0.539474, mean_q: 16.446931, mean_eps: 0.821935\n",
            "  2009/50000: episode: 73, duration: 0.101s, episode steps:  11, steps per second: 109, episode reward: 11.000, mean reward:  1.000 [ 1.000,  1.000], mean action: 0.727 [0.000, 1.000],  loss: 0.433517, mae: 8.446608, accuracy: 0.502841, mean_q: 17.167554, mean_eps: 0.819730\n",
            "  2033/50000: episode: 74, duration: 0.219s, episode steps:  24, steps per second: 110, episode reward: 24.000, mean reward:  1.000 [ 1.000,  1.000], mean action: 0.458 [0.000, 1.000],  loss: 1.035670, mae: 8.442356, accuracy: 0.532552, mean_q: 17.042538, mean_eps: 0.818155\n",
            "  2111/50000: episode: 75, duration: 0.676s, episode steps:  78, steps per second: 115, episode reward: 78.000, mean reward:  1.000 [ 1.000,  1.000], mean action: 0.474 [0.000, 1.000],  loss: 1.240246, mae: 8.595511, accuracy: 0.548077, mean_q: 17.391037, mean_eps: 0.813565\n",
            "  2136/50000: episode: 76, duration: 0.237s, episode steps:  25, steps per second: 105, episode reward: 25.000, mean reward:  1.000 [ 1.000,  1.000], mean action: 0.480 [0.000, 1.000],  loss: 1.320043, mae: 8.887188, accuracy: 0.570000, mean_q: 18.024388, mean_eps: 0.808930\n",
            "  2155/50000: episode: 77, duration: 0.181s, episode steps:  19, steps per second: 105, episode reward: 19.000, mean reward:  1.000 [ 1.000,  1.000], mean action: 0.579 [0.000, 1.000],  loss: 1.101271, mae: 8.908419, accuracy: 0.587171, mean_q: 18.124934, mean_eps: 0.806950\n",
            "  2191/50000: episode: 78, duration: 0.340s, episode steps:  36, steps per second: 106, episode reward: 36.000, mean reward:  1.000 [ 1.000,  1.000], mean action: 0.611 [0.000, 1.000],  loss: 1.577417, mae: 9.068991, accuracy: 0.548611, mean_q: 18.348621, mean_eps: 0.804475\n",
            "  2205/50000: episode: 79, duration: 0.135s, episode steps:  14, steps per second: 104, episode reward: 14.000, mean reward:  1.000 [ 1.000,  1.000], mean action: 0.714 [0.000, 1.000],  loss: 1.681101, mae: 9.054661, accuracy: 0.580357, mean_q: 18.280018, mean_eps: 0.802225\n",
            "  2246/50000: episode: 80, duration: 0.379s, episode steps:  41, steps per second: 108, episode reward: 41.000, mean reward:  1.000 [ 1.000,  1.000], mean action: 0.512 [0.000, 1.000],  loss: 1.383990, mae: 9.314074, accuracy: 0.533537, mean_q: 18.816828, mean_eps: 0.799750\n",
            "  2279/50000: episode: 81, duration: 0.292s, episode steps:  33, steps per second: 113, episode reward: 33.000, mean reward:  1.000 [ 1.000,  1.000], mean action: 0.485 [0.000, 1.000],  loss: 1.763587, mae: 9.523745, accuracy: 0.546402, mean_q: 19.174316, mean_eps: 0.796420\n",
            "  2341/50000: episode: 82, duration: 0.534s, episode steps:  62, steps per second: 116, episode reward: 62.000, mean reward:  1.000 [ 1.000,  1.000], mean action: 0.516 [0.000, 1.000],  loss: 1.124853, mae: 9.700211, accuracy: 0.535786, mean_q: 19.555104, mean_eps: 0.792145\n",
            "  2353/50000: episode: 83, duration: 0.121s, episode steps:  12, steps per second:  99, episode reward: 12.000, mean reward:  1.000 [ 1.000,  1.000], mean action: 0.250 [0.000, 1.000],  loss: 1.606721, mae: 9.721743, accuracy: 0.557292, mean_q: 19.616615, mean_eps: 0.788815\n",
            "  2400/50000: episode: 84, duration: 0.404s, episode steps:  47, steps per second: 116, episode reward: 47.000, mean reward:  1.000 [ 1.000,  1.000], mean action: 0.489 [0.000, 1.000],  loss: 1.521102, mae: 9.918664, accuracy: 0.540559, mean_q: 19.980937, mean_eps: 0.786160\n",
            "  2412/50000: episode: 85, duration: 0.114s, episode steps:  12, steps per second: 105, episode reward: 12.000, mean reward:  1.000 [ 1.000,  1.000], mean action: 0.583 [0.000, 1.000],  loss: 0.841681, mae: 10.236740, accuracy: 0.546875, mean_q: 20.745961, mean_eps: 0.783505\n",
            "  2439/50000: episode: 86, duration: 0.234s, episode steps:  27, steps per second: 115, episode reward: 27.000, mean reward:  1.000 [ 1.000,  1.000], mean action: 0.481 [0.000, 1.000],  loss: 1.605588, mae: 10.282010, accuracy: 0.515046, mean_q: 20.755398, mean_eps: 0.781750\n",
            "  2543/50000: episode: 87, duration: 0.926s, episode steps: 104, steps per second: 112, episode reward: 104.000, mean reward:  1.000 [ 1.000,  1.000], mean action: 0.529 [0.000, 1.000],  loss: 1.645971, mae: 10.413033, accuracy: 0.559195, mean_q: 21.032581, mean_eps: 0.775855\n",
            "  2563/50000: episode: 88, duration: 0.175s, episode steps:  20, steps per second: 114, episode reward: 20.000, mean reward:  1.000 [ 1.000,  1.000], mean action: 0.450 [0.000, 1.000],  loss: 1.323780, mae: 10.663610, accuracy: 0.579688, mean_q: 21.703645, mean_eps: 0.770275\n",
            "  2671/50000: episode: 89, duration: 0.923s, episode steps: 108, steps per second: 117, episode reward: 108.000, mean reward:  1.000 [ 1.000,  1.000], mean action: 0.500 [0.000, 1.000],  loss: 1.726060, mae: 10.911774, accuracy: 0.539931, mean_q: 22.021729, mean_eps: 0.764515\n",
            "  2747/50000: episode: 90, duration: 0.704s, episode steps:  76, steps per second: 108, episode reward: 76.000, mean reward:  1.000 [ 1.000,  1.000], mean action: 0.487 [0.000, 1.000],  loss: 1.626790, mae: 11.286924, accuracy: 0.546464, mean_q: 22.936146, mean_eps: 0.756235\n",
            "  2789/50000: episode: 91, duration: 0.383s, episode steps:  42, steps per second: 110, episode reward: 42.000, mean reward:  1.000 [ 1.000,  1.000], mean action: 0.429 [0.000, 1.000],  loss: 1.569734, mae: 11.733564, accuracy: 0.559524, mean_q: 23.873277, mean_eps: 0.750925\n",
            "  2837/50000: episode: 92, duration: 0.444s, episode steps:  48, steps per second: 108, episode reward: 48.000, mean reward:  1.000 [ 1.000,  1.000], mean action: 0.521 [0.000, 1.000],  loss: 1.605139, mae: 11.748274, accuracy: 0.543620, mean_q: 23.906239, mean_eps: 0.746875\n",
            "  2878/50000: episode: 93, duration: 0.375s, episode steps:  41, steps per second: 109, episode reward: 41.000, mean reward:  1.000 [ 1.000,  1.000], mean action: 0.317 [0.000, 1.000],  loss: 1.474745, mae: 12.059211, accuracy: 0.551829, mean_q: 24.552083, mean_eps: 0.742870\n",
            "  2916/50000: episode: 94, duration: 0.354s, episode steps:  38, steps per second: 107, episode reward: 38.000, mean reward:  1.000 [ 1.000,  1.000], mean action: 0.474 [0.000, 1.000],  loss: 1.832371, mae: 12.103454, accuracy: 0.541941, mean_q: 24.631142, mean_eps: 0.739315\n",
            "  2991/50000: episode: 95, duration: 0.707s, episode steps:  75, steps per second: 106, episode reward: 75.000, mean reward:  1.000 [ 1.000,  1.000], mean action: 0.493 [0.000, 1.000],  loss: 1.605906, mae: 12.325475, accuracy: 0.553750, mean_q: 25.134597, mean_eps: 0.734230\n",
            "  3015/50000: episode: 96, duration: 0.238s, episode steps:  24, steps per second: 101, episode reward: 24.000, mean reward:  1.000 [ 1.000,  1.000], mean action: 0.542 [0.000, 1.000],  loss: 2.467848, mae: 12.612209, accuracy: 0.565104, mean_q: 25.631425, mean_eps: 0.729775\n",
            "  3087/50000: episode: 97, duration: 0.694s, episode steps:  72, steps per second: 104, episode reward: 72.000, mean reward:  1.000 [ 1.000,  1.000], mean action: 0.500 [0.000, 1.000],  loss: 1.578792, mae: 12.734178, accuracy: 0.570747, mean_q: 26.083744, mean_eps: 0.725455\n",
            "  3126/50000: episode: 98, duration: 0.380s, episode steps:  39, steps per second: 103, episode reward: 39.000, mean reward:  1.000 [ 1.000,  1.000], mean action: 0.538 [0.000, 1.000],  loss: 2.341290, mae: 13.086141, accuracy: 0.538462, mean_q: 26.655691, mean_eps: 0.720460\n",
            "  3139/50000: episode: 99, duration: 0.131s, episode steps:  13, steps per second: 100, episode reward: 13.000, mean reward:  1.000 [ 1.000,  1.000], mean action: 0.231 [0.000, 1.000],  loss: 1.786774, mae: 13.212575, accuracy: 0.519231, mean_q: 27.011008, mean_eps: 0.718120\n",
            "  3286/50000: episode: 100, duration: 1.320s, episode steps: 147, steps per second: 111, episode reward: 147.000, mean reward:  1.000 [ 1.000,  1.000], mean action: 0.490 [0.000, 1.000],  loss: 2.065443, mae: 13.491116, accuracy: 0.557823, mean_q: 27.553051, mean_eps: 0.710920\n",
            "  3319/50000: episode: 101, duration: 0.293s, episode steps:  33, steps per second: 113, episode reward: 33.000, mean reward:  1.000 [ 1.000,  1.000], mean action: 0.515 [0.000, 1.000],  loss: 2.277921, mae: 14.038328, accuracy: 0.576705, mean_q: 28.534820, mean_eps: 0.702820\n",
            "  3367/50000: episode: 102, duration: 0.445s, episode steps:  48, steps per second: 108, episode reward: 48.000, mean reward:  1.000 [ 1.000,  1.000], mean action: 0.521 [0.000, 1.000],  loss: 1.971299, mae: 14.122603, accuracy: 0.559896, mean_q: 28.866308, mean_eps: 0.699175\n",
            "  3405/50000: episode: 103, duration: 0.348s, episode steps:  38, steps per second: 109, episode reward: 38.000, mean reward:  1.000 [ 1.000,  1.000], mean action: 0.500 [0.000, 1.000],  loss: 2.107799, mae: 14.315254, accuracy: 0.541941, mean_q: 29.180954, mean_eps: 0.695305\n",
            "  3481/50000: episode: 104, duration: 0.689s, episode steps:  76, steps per second: 110, episode reward: 76.000, mean reward:  1.000 [ 1.000,  1.000], mean action: 0.487 [0.000, 1.000],  loss: 2.066404, mae: 14.505523, accuracy: 0.573191, mean_q: 29.620794, mean_eps: 0.690175\n",
            "  3625/50000: episode: 105, duration: 1.261s, episode steps: 144, steps per second: 114, episode reward: 144.000, mean reward:  1.000 [ 1.000,  1.000], mean action: 0.493 [0.000, 1.000],  loss: 1.866623, mae: 15.021195, accuracy: 0.561415, mean_q: 30.752683, mean_eps: 0.680275\n",
            "  3660/50000: episode: 106, duration: 0.311s, episode steps:  35, steps per second: 113, episode reward: 35.000, mean reward:  1.000 [ 1.000,  1.000], mean action: 0.457 [0.000, 1.000],  loss: 2.030779, mae: 15.445321, accuracy: 0.565179, mean_q: 31.677507, mean_eps: 0.672220\n",
            "  3717/50000: episode: 107, duration: 0.515s, episode steps:  57, steps per second: 111, episode reward: 57.000, mean reward:  1.000 [ 1.000,  1.000], mean action: 0.491 [0.000, 1.000],  loss: 2.216663, mae: 15.590466, accuracy: 0.547149, mean_q: 31.903246, mean_eps: 0.668080\n",
            "  3793/50000: episode: 108, duration: 0.683s, episode steps:  76, steps per second: 111, episode reward: 76.000, mean reward:  1.000 [ 1.000,  1.000], mean action: 0.526 [0.000, 1.000],  loss: 2.233662, mae: 15.961055, accuracy: 0.564967, mean_q: 32.738994, mean_eps: 0.662095\n",
            "  3851/50000: episode: 109, duration: 0.568s, episode steps:  58, steps per second: 102, episode reward: 58.000, mean reward:  1.000 [ 1.000,  1.000], mean action: 0.448 [0.000, 1.000],  loss: 1.744434, mae: 16.436681, accuracy: 0.563578, mean_q: 33.745138, mean_eps: 0.656065\n",
            "  3958/50000: episode: 110, duration: 1.287s, episode steps: 107, steps per second:  83, episode reward: 107.000, mean reward:  1.000 [ 1.000,  1.000], mean action: 0.505 [0.000, 1.000],  loss: 2.314097, mae: 16.740778, accuracy: 0.569509, mean_q: 34.180126, mean_eps: 0.648640\n",
            "  4129/50000: episode: 111, duration: 1.571s, episode steps: 171, steps per second: 109, episode reward: 171.000, mean reward:  1.000 [ 1.000,  1.000], mean action: 0.491 [0.000, 1.000],  loss: 2.399381, mae: 17.405250, accuracy: 0.570358, mean_q: 35.631779, mean_eps: 0.636130\n",
            "  4153/50000: episode: 112, duration: 0.219s, episode steps:  24, steps per second: 110, episode reward: 24.000, mean reward:  1.000 [ 1.000,  1.000], mean action: 0.500 [0.000, 1.000],  loss: 2.745920, mae: 17.748070, accuracy: 0.535156, mean_q: 36.253935, mean_eps: 0.627355\n",
            "  4242/50000: episode: 113, duration: 0.820s, episode steps:  89, steps per second: 108, episode reward: 89.000, mean reward:  1.000 [ 1.000,  1.000], mean action: 0.449 [0.000, 1.000],  loss: 3.090986, mae: 18.179494, accuracy: 0.573034, mean_q: 37.118763, mean_eps: 0.622270\n",
            "  4306/50000: episode: 114, duration: 0.560s, episode steps:  64, steps per second: 114, episode reward: 64.000, mean reward:  1.000 [ 1.000,  1.000], mean action: 0.469 [0.000, 1.000],  loss: 2.637401, mae: 18.326271, accuracy: 0.584961, mean_q: 37.541766, mean_eps: 0.615385\n",
            "  4317/50000: episode: 115, duration: 0.108s, episode steps:  11, steps per second: 102, episode reward: 11.000, mean reward:  1.000 [ 1.000,  1.000], mean action: 0.727 [0.000, 1.000],  loss: 1.399546, mae: 18.478666, accuracy: 0.602273, mean_q: 38.060781, mean_eps: 0.612010\n",
            "  4355/50000: episode: 116, duration: 0.378s, episode steps:  38, steps per second: 101, episode reward: 38.000, mean reward:  1.000 [ 1.000,  1.000], mean action: 0.421 [0.000, 1.000],  loss: 2.042582, mae: 18.747070, accuracy: 0.574836, mean_q: 38.503138, mean_eps: 0.609805\n",
            "  4378/50000: episode: 117, duration: 0.217s, episode steps:  23, steps per second: 106, episode reward: 23.000, mean reward:  1.000 [ 1.000,  1.000], mean action: 0.522 [0.000, 1.000],  loss: 2.792446, mae: 18.973590, accuracy: 0.547554, mean_q: 38.653289, mean_eps: 0.607060\n",
            "  4578/50000: episode: 118, duration: 1.847s, episode steps: 200, steps per second: 108, episode reward: 200.000, mean reward:  1.000 [ 1.000,  1.000], mean action: 0.495 [0.000, 1.000],  loss: 2.870041, mae: 19.534280, accuracy: 0.578281, mean_q: 40.021934, mean_eps: 0.597025\n",
            "  4743/50000: episode: 119, duration: 1.495s, episode steps: 165, steps per second: 110, episode reward: 165.000, mean reward:  1.000 [ 1.000,  1.000], mean action: 0.503 [0.000, 1.000],  loss: 3.282194, mae: 20.483229, accuracy: 0.589773, mean_q: 41.905824, mean_eps: 0.580600\n",
            "  4848/50000: episode: 120, duration: 0.958s, episode steps: 105, steps per second: 110, episode reward: 105.000, mean reward:  1.000 [ 1.000,  1.000], mean action: 0.476 [0.000, 1.000],  loss: 3.847507, mae: 21.004822, accuracy: 0.577083, mean_q: 42.816955, mean_eps: 0.568450\n",
            "  4962/50000: episode: 121, duration: 1.060s, episode steps: 114, steps per second: 108, episode reward: 114.000, mean reward:  1.000 [ 1.000,  1.000], mean action: 0.500 [0.000, 1.000],  loss: 2.656489, mae: 21.685813, accuracy: 0.592379, mean_q: 44.394892, mean_eps: 0.558595\n",
            "  4981/50000: episode: 122, duration: 0.189s, episode steps:  19, steps per second: 100, episode reward: 19.000, mean reward:  1.000 [ 1.000,  1.000], mean action: 0.316 [0.000, 1.000],  loss: 5.982214, mae: 21.570799, accuracy: 0.616776, mean_q: 43.986248, mean_eps: 0.552610\n",
            "  5123/50000: episode: 123, duration: 1.277s, episode steps: 142, steps per second: 111, episode reward: 142.000, mean reward:  1.000 [ 1.000,  1.000], mean action: 0.493 [0.000, 1.000],  loss: 3.208236, mae: 22.410394, accuracy: 0.587368, mean_q: 45.793917, mean_eps: 0.545365\n",
            "  5227/50000: episode: 124, duration: 0.952s, episode steps: 104, steps per second: 109, episode reward: 104.000, mean reward:  1.000 [ 1.000,  1.000], mean action: 0.510 [0.000, 1.000],  loss: 3.215947, mae: 22.823767, accuracy: 0.613281, mean_q: 46.863975, mean_eps: 0.534295\n",
            "  5413/50000: episode: 125, duration: 1.772s, episode steps: 186, steps per second: 105, episode reward: 186.000, mean reward:  1.000 [ 1.000,  1.000], mean action: 0.468 [0.000, 1.000],  loss: 3.847454, mae: 23.664062, accuracy: 0.598622, mean_q: 48.429051, mean_eps: 0.521245\n",
            "  5466/50000: episode: 126, duration: 0.515s, episode steps:  53, steps per second: 103, episode reward: 53.000, mean reward:  1.000 [ 1.000,  1.000], mean action: 0.472 [0.000, 1.000],  loss: 3.235275, mae: 24.300873, accuracy: 0.600825, mean_q: 49.735940, mean_eps: 0.510490\n",
            "  5596/50000: episode: 127, duration: 1.213s, episode steps: 130, steps per second: 107, episode reward: 130.000, mean reward:  1.000 [ 1.000,  1.000], mean action: 0.492 [0.000, 1.000],  loss: 4.429617, mae: 24.579802, accuracy: 0.604808, mean_q: 50.347710, mean_eps: 0.502255\n",
            "  5796/50000: episode: 128, duration: 1.784s, episode steps: 200, steps per second: 112, episode reward: 200.000, mean reward:  1.000 [ 1.000,  1.000], mean action: 0.490 [0.000, 1.000],  loss: 4.077098, mae: 25.482706, accuracy: 0.601562, mean_q: 52.068947, mean_eps: 0.487405\n",
            "  5859/50000: episode: 129, duration: 0.566s, episode steps:  63, steps per second: 111, episode reward: 63.000, mean reward:  1.000 [ 1.000,  1.000], mean action: 0.492 [0.000, 1.000],  loss: 5.239855, mae: 26.381693, accuracy: 0.593254, mean_q: 53.787660, mean_eps: 0.475570\n",
            "  5970/50000: episode: 130, duration: 0.983s, episode steps: 111, steps per second: 113, episode reward: 111.000, mean reward:  1.000 [ 1.000,  1.000], mean action: 0.468 [0.000, 1.000],  loss: 4.938545, mae: 26.390331, accuracy: 0.599099, mean_q: 53.918928, mean_eps: 0.467740\n",
            "  6170/50000: episode: 131, duration: 1.838s, episode steps: 200, steps per second: 109, episode reward: 200.000, mean reward:  1.000 [ 1.000,  1.000], mean action: 0.490 [0.000, 1.000],  loss: 4.173661, mae: 27.241629, accuracy: 0.612031, mean_q: 55.583694, mean_eps: 0.453745\n",
            "  6370/50000: episode: 132, duration: 1.806s, episode steps: 200, steps per second: 111, episode reward: 200.000, mean reward:  1.000 [ 1.000,  1.000], mean action: 0.490 [0.000, 1.000],  loss: 5.739794, mae: 28.099122, accuracy: 0.626094, mean_q: 57.449118, mean_eps: 0.435745\n",
            "  6466/50000: episode: 133, duration: 0.840s, episode steps:  96, steps per second: 114, episode reward: 96.000, mean reward:  1.000 [ 1.000,  1.000], mean action: 0.490 [0.000, 1.000],  loss: 3.799963, mae: 28.782505, accuracy: 0.611003, mean_q: 58.787882, mean_eps: 0.422425\n",
            "  6597/50000: episode: 134, duration: 1.179s, episode steps: 131, steps per second: 111, episode reward: 131.000, mean reward:  1.000 [ 1.000,  1.000], mean action: 0.473 [0.000, 1.000],  loss: 5.500926, mae: 29.194279, accuracy: 0.619513, mean_q: 59.637078, mean_eps: 0.412210\n",
            "  6797/50000: episode: 135, duration: 1.769s, episode steps: 200, steps per second: 113, episode reward: 200.000, mean reward:  1.000 [ 1.000,  1.000], mean action: 0.500 [0.000, 1.000],  loss: 5.977608, mae: 29.984417, accuracy: 0.620313, mean_q: 61.175344, mean_eps: 0.397315\n",
            "  6997/50000: episode: 136, duration: 1.836s, episode steps: 200, steps per second: 109, episode reward: 200.000, mean reward:  1.000 [ 1.000,  1.000], mean action: 0.480 [0.000, 1.000],  loss: 4.978132, mae: 30.898721, accuracy: 0.621563, mean_q: 63.127191, mean_eps: 0.379315\n",
            "  7197/50000: episode: 137, duration: 1.790s, episode steps: 200, steps per second: 112, episode reward: 200.000, mean reward:  1.000 [ 1.000,  1.000], mean action: 0.490 [0.000, 1.000],  loss: 7.236274, mae: 31.676509, accuracy: 0.629844, mean_q: 64.509672, mean_eps: 0.361315\n",
            "  7397/50000: episode: 138, duration: 1.792s, episode steps: 200, steps per second: 112, episode reward: 200.000, mean reward:  1.000 [ 1.000,  1.000], mean action: 0.485 [0.000, 1.000],  loss: 5.228814, mae: 32.592994, accuracy: 0.627031, mean_q: 66.393396, mean_eps: 0.343315\n",
            "  7590/50000: episode: 139, duration: 1.748s, episode steps: 193, steps per second: 110, episode reward: 193.000, mean reward:  1.000 [ 1.000,  1.000], mean action: 0.472 [0.000, 1.000],  loss: 7.242398, mae: 33.237660, accuracy: 0.640058, mean_q: 67.708540, mean_eps: 0.325630\n",
            "  7718/50000: episode: 140, duration: 1.172s, episode steps: 128, steps per second: 109, episode reward: 128.000, mean reward:  1.000 [ 1.000,  1.000], mean action: 0.492 [0.000, 1.000],  loss: 8.423452, mae: 33.917973, accuracy: 0.627441, mean_q: 69.006230, mean_eps: 0.311185\n",
            "  7918/50000: episode: 141, duration: 1.865s, episode steps: 200, steps per second: 107, episode reward: 200.000, mean reward:  1.000 [ 1.000,  1.000], mean action: 0.480 [0.000, 1.000],  loss: 7.862438, mae: 34.192460, accuracy: 0.639844, mean_q: 69.730475, mean_eps: 0.296425\n",
            "  8118/50000: episode: 142, duration: 1.827s, episode steps: 200, steps per second: 109, episode reward: 200.000, mean reward:  1.000 [ 1.000,  1.000], mean action: 0.480 [0.000, 1.000],  loss: 6.626659, mae: 34.986427, accuracy: 0.647500, mean_q: 71.386690, mean_eps: 0.278425\n",
            "  8317/50000: episode: 143, duration: 1.808s, episode steps: 199, steps per second: 110, episode reward: 199.000, mean reward:  1.000 [ 1.000,  1.000], mean action: 0.472 [0.000, 1.000],  loss: 7.465078, mae: 35.864925, accuracy: 0.637720, mean_q: 72.986581, mean_eps: 0.260470\n",
            "  8517/50000: episode: 144, duration: 1.816s, episode steps: 200, steps per second: 110, episode reward: 200.000, mean reward:  1.000 [ 1.000,  1.000], mean action: 0.485 [0.000, 1.000],  loss: 8.048443, mae: 36.374607, accuracy: 0.641250, mean_q: 74.083480, mean_eps: 0.242515\n",
            "  8715/50000: episode: 145, duration: 1.785s, episode steps: 198, steps per second: 111, episode reward: 198.000, mean reward:  1.000 [ 1.000,  1.000], mean action: 0.470 [0.000, 1.000],  loss: 6.490246, mae: 36.968280, accuracy: 0.640152, mean_q: 75.121450, mean_eps: 0.224605\n",
            "  8894/50000: episode: 146, duration: 1.648s, episode steps: 179, steps per second: 109, episode reward: 179.000, mean reward:  1.000 [ 1.000,  1.000], mean action: 0.464 [0.000, 1.000],  loss: 10.258229, mae: 37.609066, accuracy: 0.638443, mean_q: 76.348833, mean_eps: 0.207640\n",
            "  9055/50000: episode: 147, duration: 1.545s, episode steps: 161, steps per second: 104, episode reward: 161.000, mean reward:  1.000 [ 1.000,  1.000], mean action: 0.478 [0.000, 1.000],  loss: 7.992436, mae: 37.881858, accuracy: 0.639169, mean_q: 76.963813, mean_eps: 0.192340\n",
            "  9255/50000: episode: 148, duration: 1.811s, episode steps: 200, steps per second: 110, episode reward: 200.000, mean reward:  1.000 [ 1.000,  1.000], mean action: 0.475 [0.000, 1.000],  loss: 8.439595, mae: 38.340912, accuracy: 0.646719, mean_q: 77.939005, mean_eps: 0.176095\n",
            "  9448/50000: episode: 149, duration: 1.798s, episode steps: 193, steps per second: 107, episode reward: 193.000, mean reward:  1.000 [ 1.000,  1.000], mean action: 0.472 [0.000, 1.000],  loss: 5.987786, mae: 38.650615, accuracy: 0.648964, mean_q: 78.748559, mean_eps: 0.158410\n",
            "  9630/50000: episode: 150, duration: 1.646s, episode steps: 182, steps per second: 111, episode reward: 182.000, mean reward:  1.000 [ 1.000,  1.000], mean action: 0.467 [0.000, 1.000],  loss: 8.682472, mae: 39.074743, accuracy: 0.653331, mean_q: 79.622217, mean_eps: 0.141535\n",
            "  9830/50000: episode: 151, duration: 1.771s, episode steps: 200, steps per second: 113, episode reward: 200.000, mean reward:  1.000 [ 1.000,  1.000], mean action: 0.480 [0.000, 1.000],  loss: 7.715047, mae: 39.592490, accuracy: 0.639844, mean_q: 80.516013, mean_eps: 0.124345\n",
            " 10030/50000: episode: 152, duration: 1.751s, episode steps: 200, steps per second: 114, episode reward: 200.000, mean reward:  1.000 [ 1.000,  1.000], mean action: 0.485 [0.000, 1.000],  loss: 8.025784, mae: 40.357102, accuracy: 0.648125, mean_q: 82.007559, mean_eps: 0.106541\n",
            " 10230/50000: episode: 153, duration: 1.801s, episode steps: 200, steps per second: 111, episode reward: 200.000, mean reward:  1.000 [ 1.000,  1.000], mean action: 0.480 [0.000, 1.000],  loss: 7.572423, mae: 40.683452, accuracy: 0.640625, mean_q: 82.581092, mean_eps: 0.100000\n",
            " 10430/50000: episode: 154, duration: 1.867s, episode steps: 200, steps per second: 107, episode reward: 200.000, mean reward:  1.000 [ 1.000,  1.000], mean action: 0.470 [0.000, 1.000],  loss: 6.989655, mae: 41.378605, accuracy: 0.643750, mean_q: 84.008708, mean_eps: 0.100000\n",
            " 10630/50000: episode: 155, duration: 1.836s, episode steps: 200, steps per second: 109, episode reward: 200.000, mean reward:  1.000 [ 1.000,  1.000], mean action: 0.490 [0.000, 1.000],  loss: 9.850986, mae: 41.341270, accuracy: 0.650625, mean_q: 83.942887, mean_eps: 0.100000\n",
            " 10830/50000: episode: 156, duration: 1.833s, episode steps: 200, steps per second: 109, episode reward: 200.000, mean reward:  1.000 [ 1.000,  1.000], mean action: 0.500 [0.000, 1.000],  loss: 8.248809, mae: 42.070757, accuracy: 0.632500, mean_q: 85.225244, mean_eps: 0.100000\n",
            " 11030/50000: episode: 157, duration: 1.892s, episode steps: 200, steps per second: 106, episode reward: 200.000, mean reward:  1.000 [ 1.000,  1.000], mean action: 0.485 [0.000, 1.000],  loss: 9.081268, mae: 42.961165, accuracy: 0.650312, mean_q: 87.246335, mean_eps: 0.100000\n",
            " 11230/50000: episode: 158, duration: 1.881s, episode steps: 200, steps per second: 106, episode reward: 200.000, mean reward:  1.000 [ 1.000,  1.000], mean action: 0.485 [0.000, 1.000],  loss: 8.236854, mae: 43.247650, accuracy: 0.648906, mean_q: 87.664819, mean_eps: 0.100000\n",
            " 11430/50000: episode: 159, duration: 1.815s, episode steps: 200, steps per second: 110, episode reward: 200.000, mean reward:  1.000 [ 1.000,  1.000], mean action: 0.485 [0.000, 1.000],  loss: 11.613897, mae: 43.649118, accuracy: 0.640781, mean_q: 88.448523, mean_eps: 0.100000\n",
            " 11630/50000: episode: 160, duration: 1.809s, episode steps: 200, steps per second: 111, episode reward: 200.000, mean reward:  1.000 [ 1.000,  1.000], mean action: 0.480 [0.000, 1.000],  loss: 10.288139, mae: 43.859048, accuracy: 0.634062, mean_q: 88.756197, mean_eps: 0.100000\n",
            " 11830/50000: episode: 161, duration: 1.810s, episode steps: 200, steps per second: 111, episode reward: 200.000, mean reward:  1.000 [ 1.000,  1.000], mean action: 0.490 [0.000, 1.000],  loss: 10.173116, mae: 44.789059, accuracy: 0.637500, mean_q: 90.563689, mean_eps: 0.100000\n",
            " 12030/50000: episode: 162, duration: 1.785s, episode steps: 200, steps per second: 112, episode reward: 200.000, mean reward:  1.000 [ 1.000,  1.000], mean action: 0.480 [0.000, 1.000],  loss: 10.342489, mae: 44.467769, accuracy: 0.635938, mean_q: 90.075708, mean_eps: 0.100000\n",
            " 12230/50000: episode: 163, duration: 1.829s, episode steps: 200, steps per second: 109, episode reward: 200.000, mean reward:  1.000 [ 1.000,  1.000], mean action: 0.495 [0.000, 1.000],  loss: 9.232051, mae: 44.928673, accuracy: 0.632188, mean_q: 91.149496, mean_eps: 0.100000\n",
            " 12430/50000: episode: 164, duration: 1.821s, episode steps: 200, steps per second: 110, episode reward: 200.000, mean reward:  1.000 [ 1.000,  1.000], mean action: 0.485 [0.000, 1.000],  loss: 7.799956, mae: 45.781899, accuracy: 0.611719, mean_q: 92.813056, mean_eps: 0.100000\n",
            " 12630/50000: episode: 165, duration: 1.817s, episode steps: 200, steps per second: 110, episode reward: 200.000, mean reward:  1.000 [ 1.000,  1.000], mean action: 0.490 [0.000, 1.000],  loss: 8.730653, mae: 45.867168, accuracy: 0.603594, mean_q: 93.021006, mean_eps: 0.100000\n",
            " 12830/50000: episode: 166, duration: 1.804s, episode steps: 200, steps per second: 111, episode reward: 200.000, mean reward:  1.000 [ 1.000,  1.000], mean action: 0.475 [0.000, 1.000],  loss: 13.370822, mae: 46.324843, accuracy: 0.615625, mean_q: 93.635991, mean_eps: 0.100000\n",
            " 13030/50000: episode: 167, duration: 1.804s, episode steps: 200, steps per second: 111, episode reward: 200.000, mean reward:  1.000 [ 1.000,  1.000], mean action: 0.490 [0.000, 1.000],  loss: 8.009454, mae: 46.621775, accuracy: 0.606406, mean_q: 94.291354, mean_eps: 0.100000\n",
            " 13230/50000: episode: 168, duration: 1.765s, episode steps: 200, steps per second: 113, episode reward: 200.000, mean reward:  1.000 [ 1.000,  1.000], mean action: 0.480 [0.000, 1.000],  loss: 9.355511, mae: 47.119884, accuracy: 0.605938, mean_q: 95.278415, mean_eps: 0.100000\n",
            " 13430/50000: episode: 169, duration: 1.788s, episode steps: 200, steps per second: 112, episode reward: 200.000, mean reward:  1.000 [ 1.000,  1.000], mean action: 0.500 [0.000, 1.000],  loss: 8.742395, mae: 47.439312, accuracy: 0.624844, mean_q: 95.951147, mean_eps: 0.100000\n",
            " 13630/50000: episode: 170, duration: 1.802s, episode steps: 200, steps per second: 111, episode reward: 200.000, mean reward:  1.000 [ 1.000,  1.000], mean action: 0.500 [0.000, 1.000],  loss: 7.998213, mae: 47.660419, accuracy: 0.619375, mean_q: 96.409431, mean_eps: 0.100000\n",
            " 13830/50000: episode: 171, duration: 1.866s, episode steps: 200, steps per second: 107, episode reward: 200.000, mean reward:  1.000 [ 1.000,  1.000], mean action: 0.480 [0.000, 1.000],  loss: 9.540871, mae: 47.796238, accuracy: 0.592187, mean_q: 96.513376, mean_eps: 0.100000\n",
            " 14030/50000: episode: 172, duration: 1.799s, episode steps: 200, steps per second: 111, episode reward: 200.000, mean reward:  1.000 [ 1.000,  1.000], mean action: 0.480 [0.000, 1.000],  loss: 8.734938, mae: 48.218848, accuracy: 0.604844, mean_q: 97.666696, mean_eps: 0.100000\n",
            " 14230/50000: episode: 173, duration: 1.799s, episode steps: 200, steps per second: 111, episode reward: 200.000, mean reward:  1.000 [ 1.000,  1.000], mean action: 0.490 [0.000, 1.000],  loss: 10.764031, mae: 48.491331, accuracy: 0.606406, mean_q: 98.101565, mean_eps: 0.100000\n",
            " 14430/50000: episode: 174, duration: 1.783s, episode steps: 200, steps per second: 112, episode reward: 200.000, mean reward:  1.000 [ 1.000,  1.000], mean action: 0.490 [0.000, 1.000],  loss: 11.839170, mae: 48.953710, accuracy: 0.601562, mean_q: 98.991220, mean_eps: 0.100000\n",
            " 14630/50000: episode: 175, duration: 1.760s, episode steps: 200, steps per second: 114, episode reward: 200.000, mean reward:  1.000 [ 1.000,  1.000], mean action: 0.480 [0.000, 1.000],  loss: 12.949795, mae: 49.407909, accuracy: 0.603594, mean_q: 99.971567, mean_eps: 0.100000\n",
            " 14830/50000: episode: 176, duration: 1.777s, episode steps: 200, steps per second: 113, episode reward: 200.000, mean reward:  1.000 [ 1.000,  1.000], mean action: 0.480 [0.000, 1.000],  loss: 13.670372, mae: 49.612345, accuracy: 0.599688, mean_q: 100.360576, mean_eps: 0.100000\n",
            " 15030/50000: episode: 177, duration: 1.793s, episode steps: 200, steps per second: 112, episode reward: 200.000, mean reward:  1.000 [ 1.000,  1.000], mean action: 0.505 [0.000, 1.000],  loss: 10.801755, mae: 50.021547, accuracy: 0.600781, mean_q: 101.292100, mean_eps: 0.100000\n",
            " 15230/50000: episode: 178, duration: 1.760s, episode steps: 200, steps per second: 114, episode reward: 200.000, mean reward:  1.000 [ 1.000,  1.000], mean action: 0.500 [0.000, 1.000],  loss: 14.612499, mae: 50.367515, accuracy: 0.605938, mean_q: 101.931991, mean_eps: 0.100000\n",
            " 15430/50000: episode: 179, duration: 1.759s, episode steps: 200, steps per second: 114, episode reward: 200.000, mean reward:  1.000 [ 1.000,  1.000], mean action: 0.500 [0.000, 1.000],  loss: 16.596333, mae: 50.339486, accuracy: 0.622656, mean_q: 101.964477, mean_eps: 0.100000\n",
            " 15630/50000: episode: 180, duration: 1.748s, episode steps: 200, steps per second: 114, episode reward: 200.000, mean reward:  1.000 [ 1.000,  1.000], mean action: 0.480 [0.000, 1.000],  loss: 9.254515, mae: 51.251164, accuracy: 0.614531, mean_q: 103.703445, mean_eps: 0.100000\n",
            " 15830/50000: episode: 181, duration: 1.742s, episode steps: 200, steps per second: 115, episode reward: 200.000, mean reward:  1.000 [ 1.000,  1.000], mean action: 0.485 [0.000, 1.000],  loss: 8.397954, mae: 51.356176, accuracy: 0.611406, mean_q: 104.145808, mean_eps: 0.100000\n",
            " 16030/50000: episode: 182, duration: 1.836s, episode steps: 200, steps per second: 109, episode reward: 200.000, mean reward:  1.000 [ 1.000,  1.000], mean action: 0.490 [0.000, 1.000],  loss: 10.677179, mae: 51.526149, accuracy: 0.605469, mean_q: 104.169515, mean_eps: 0.100000\n",
            " 16230/50000: episode: 183, duration: 1.773s, episode steps: 200, steps per second: 113, episode reward: 200.000, mean reward:  1.000 [ 1.000,  1.000], mean action: 0.500 [0.000, 1.000],  loss: 16.033473, mae: 52.011977, accuracy: 0.610156, mean_q: 105.146073, mean_eps: 0.100000\n",
            " 16430/50000: episode: 184, duration: 1.806s, episode steps: 200, steps per second: 111, episode reward: 200.000, mean reward:  1.000 [ 1.000,  1.000], mean action: 0.490 [0.000, 1.000],  loss: 12.854467, mae: 53.197972, accuracy: 0.610781, mean_q: 107.839024, mean_eps: 0.100000\n",
            " 16630/50000: episode: 185, duration: 1.788s, episode steps: 200, steps per second: 112, episode reward: 200.000, mean reward:  1.000 [ 1.000,  1.000], mean action: 0.500 [0.000, 1.000],  loss: 12.295109, mae: 53.068648, accuracy: 0.613594, mean_q: 107.371404, mean_eps: 0.100000\n",
            " 16830/50000: episode: 186, duration: 1.758s, episode steps: 200, steps per second: 114, episode reward: 200.000, mean reward:  1.000 [ 1.000,  1.000], mean action: 0.500 [0.000, 1.000],  loss: 19.604427, mae: 53.811764, accuracy: 0.630938, mean_q: 108.871321, mean_eps: 0.100000\n",
            " 17030/50000: episode: 187, duration: 1.717s, episode steps: 200, steps per second: 116, episode reward: 200.000, mean reward:  1.000 [ 1.000,  1.000], mean action: 0.495 [0.000, 1.000],  loss: 13.098038, mae: 53.780676, accuracy: 0.625469, mean_q: 108.835408, mean_eps: 0.100000\n",
            " 17230/50000: episode: 188, duration: 1.748s, episode steps: 200, steps per second: 114, episode reward: 200.000, mean reward:  1.000 [ 1.000,  1.000], mean action: 0.490 [0.000, 1.000],  loss: 26.646078, mae: 54.414895, accuracy: 0.628594, mean_q: 109.671251, mean_eps: 0.100000\n",
            " 17430/50000: episode: 189, duration: 1.731s, episode steps: 200, steps per second: 116, episode reward: 200.000, mean reward:  1.000 [ 1.000,  1.000], mean action: 0.505 [0.000, 1.000],  loss: 20.336255, mae: 54.350307, accuracy: 0.614375, mean_q: 109.648297, mean_eps: 0.100000\n",
            " 17630/50000: episode: 190, duration: 1.801s, episode steps: 200, steps per second: 111, episode reward: 200.000, mean reward:  1.000 [ 1.000,  1.000], mean action: 0.485 [0.000, 1.000],  loss: 12.231359, mae: 53.706455, accuracy: 0.627969, mean_q: 108.525006, mean_eps: 0.100000\n",
            " 17830/50000: episode: 191, duration: 1.738s, episode steps: 200, steps per second: 115, episode reward: 200.000, mean reward:  1.000 [ 1.000,  1.000], mean action: 0.485 [0.000, 1.000],  loss: 19.688908, mae: 54.247599, accuracy: 0.635469, mean_q: 109.663563, mean_eps: 0.100000\n",
            " 18030/50000: episode: 192, duration: 1.738s, episode steps: 200, steps per second: 115, episode reward: 200.000, mean reward:  1.000 [ 1.000,  1.000], mean action: 0.490 [0.000, 1.000],  loss: 12.938967, mae: 54.945843, accuracy: 0.642656, mean_q: 111.094935, mean_eps: 0.100000\n",
            " 18230/50000: episode: 193, duration: 1.750s, episode steps: 200, steps per second: 114, episode reward: 200.000, mean reward:  1.000 [ 1.000,  1.000], mean action: 0.495 [0.000, 1.000],  loss: 22.057884, mae: 54.049008, accuracy: 0.633281, mean_q: 109.097686, mean_eps: 0.100000\n",
            " 18430/50000: episode: 194, duration: 1.790s, episode steps: 200, steps per second: 112, episode reward: 200.000, mean reward:  1.000 [ 1.000,  1.000], mean action: 0.485 [0.000, 1.000],  loss: 15.184542, mae: 54.919295, accuracy: 0.638437, mean_q: 110.890431, mean_eps: 0.100000\n",
            " 18630/50000: episode: 195, duration: 1.808s, episode steps: 200, steps per second: 111, episode reward: 200.000, mean reward:  1.000 [ 1.000,  1.000], mean action: 0.505 [0.000, 1.000],  loss: 16.364601, mae: 54.424330, accuracy: 0.643281, mean_q: 109.894949, mean_eps: 0.100000\n",
            " 18830/50000: episode: 196, duration: 1.806s, episode steps: 200, steps per second: 111, episode reward: 200.000, mean reward:  1.000 [ 1.000,  1.000], mean action: 0.485 [0.000, 1.000],  loss: 14.577656, mae: 54.712422, accuracy: 0.651250, mean_q: 110.630950, mean_eps: 0.100000\n",
            " 19030/50000: episode: 197, duration: 1.749s, episode steps: 200, steps per second: 114, episode reward: 200.000, mean reward:  1.000 [ 1.000,  1.000], mean action: 0.490 [0.000, 1.000],  loss: 12.187944, mae: 54.579678, accuracy: 0.654375, mean_q: 110.446994, mean_eps: 0.100000\n",
            " 19230/50000: episode: 198, duration: 1.800s, episode steps: 200, steps per second: 111, episode reward: 200.000, mean reward:  1.000 [ 1.000,  1.000], mean action: 0.500 [0.000, 1.000],  loss: 8.251793, mae: 54.478916, accuracy: 0.653750, mean_q: 110.241504, mean_eps: 0.100000\n",
            " 19430/50000: episode: 199, duration: 1.789s, episode steps: 200, steps per second: 112, episode reward: 200.000, mean reward:  1.000 [ 1.000,  1.000], mean action: 0.485 [0.000, 1.000],  loss: 15.496870, mae: 55.279202, accuracy: 0.669687, mean_q: 111.759660, mean_eps: 0.100000\n",
            " 19630/50000: episode: 200, duration: 1.750s, episode steps: 200, steps per second: 114, episode reward: 200.000, mean reward:  1.000 [ 1.000,  1.000], mean action: 0.505 [0.000, 1.000],  loss: 14.956568, mae: 54.549159, accuracy: 0.645625, mean_q: 110.213890, mean_eps: 0.100000\n",
            " 19830/50000: episode: 201, duration: 1.774s, episode steps: 200, steps per second: 113, episode reward: 200.000, mean reward:  1.000 [ 1.000,  1.000], mean action: 0.490 [0.000, 1.000],  loss: 20.307471, mae: 54.826423, accuracy: 0.651406, mean_q: 110.934223, mean_eps: 0.100000\n",
            " 20030/50000: episode: 202, duration: 1.835s, episode steps: 200, steps per second: 109, episode reward: 200.000, mean reward:  1.000 [ 1.000,  1.000], mean action: 0.490 [0.000, 1.000],  loss: 16.987342, mae: 54.511522, accuracy: 0.663125, mean_q: 110.107749, mean_eps: 0.100000\n",
            " 20230/50000: episode: 203, duration: 1.811s, episode steps: 200, steps per second: 110, episode reward: 200.000, mean reward:  1.000 [ 1.000,  1.000], mean action: 0.480 [0.000, 1.000],  loss: 14.747702, mae: 54.808099, accuracy: 0.661875, mean_q: 110.780601, mean_eps: 0.100000\n",
            " 20430/50000: episode: 204, duration: 1.829s, episode steps: 200, steps per second: 109, episode reward: 200.000, mean reward:  1.000 [ 1.000,  1.000], mean action: 0.490 [0.000, 1.000],  loss: 19.811588, mae: 54.307284, accuracy: 0.668125, mean_q: 109.557817, mean_eps: 0.100000\n",
            " 20630/50000: episode: 205, duration: 1.806s, episode steps: 200, steps per second: 111, episode reward: 200.000, mean reward:  1.000 [ 1.000,  1.000], mean action: 0.490 [0.000, 1.000],  loss: 10.086702, mae: 54.118713, accuracy: 0.672188, mean_q: 109.441519, mean_eps: 0.100000\n",
            " 20830/50000: episode: 206, duration: 1.801s, episode steps: 200, steps per second: 111, episode reward: 200.000, mean reward:  1.000 [ 1.000,  1.000], mean action: 0.495 [0.000, 1.000],  loss: 19.472621, mae: 54.213715, accuracy: 0.652188, mean_q: 109.423970, mean_eps: 0.100000\n",
            " 21030/50000: episode: 207, duration: 1.854s, episode steps: 200, steps per second: 108, episode reward: 200.000, mean reward:  1.000 [ 1.000,  1.000], mean action: 0.510 [0.000, 1.000],  loss: 15.272557, mae: 54.363151, accuracy: 0.665156, mean_q: 109.919540, mean_eps: 0.100000\n",
            " 21230/50000: episode: 208, duration: 1.772s, episode steps: 200, steps per second: 113, episode reward: 200.000, mean reward:  1.000 [ 1.000,  1.000], mean action: 0.510 [0.000, 1.000],  loss: 26.942425, mae: 54.526452, accuracy: 0.664375, mean_q: 109.845801, mean_eps: 0.100000\n",
            " 21430/50000: episode: 209, duration: 1.762s, episode steps: 200, steps per second: 113, episode reward: 200.000, mean reward:  1.000 [ 1.000,  1.000], mean action: 0.500 [0.000, 1.000],  loss: 15.475540, mae: 54.341178, accuracy: 0.677969, mean_q: 109.824398, mean_eps: 0.100000\n",
            " 21630/50000: episode: 210, duration: 1.781s, episode steps: 200, steps per second: 112, episode reward: 200.000, mean reward:  1.000 [ 1.000,  1.000], mean action: 0.500 [0.000, 1.000],  loss: 18.242710, mae: 54.392915, accuracy: 0.644687, mean_q: 109.980890, mean_eps: 0.100000\n",
            " 21830/50000: episode: 211, duration: 1.772s, episode steps: 200, steps per second: 113, episode reward: 200.000, mean reward:  1.000 [ 1.000,  1.000], mean action: 0.515 [0.000, 1.000],  loss: 12.334912, mae: 54.516124, accuracy: 0.612656, mean_q: 110.475820, mean_eps: 0.100000\n",
            " 22030/50000: episode: 212, duration: 1.773s, episode steps: 200, steps per second: 113, episode reward: 200.000, mean reward:  1.000 [ 1.000,  1.000], mean action: 0.505 [0.000, 1.000],  loss: 20.185441, mae: 54.949712, accuracy: 0.637969, mean_q: 111.032624, mean_eps: 0.100000\n",
            " 22230/50000: episode: 213, duration: 1.826s, episode steps: 200, steps per second: 110, episode reward: 200.000, mean reward:  1.000 [ 1.000,  1.000], mean action: 0.495 [0.000, 1.000],  loss: 15.196172, mae: 55.125940, accuracy: 0.647031, mean_q: 111.465134, mean_eps: 0.100000\n",
            " 22430/50000: episode: 214, duration: 1.816s, episode steps: 200, steps per second: 110, episode reward: 200.000, mean reward:  1.000 [ 1.000,  1.000], mean action: 0.510 [0.000, 1.000],  loss: 30.281616, mae: 55.269546, accuracy: 0.617969, mean_q: 111.515722, mean_eps: 0.100000\n",
            " 22630/50000: episode: 215, duration: 1.836s, episode steps: 200, steps per second: 109, episode reward: 200.000, mean reward:  1.000 [ 1.000,  1.000], mean action: 0.510 [0.000, 1.000],  loss: 15.070604, mae: 55.235874, accuracy: 0.647188, mean_q: 111.495823, mean_eps: 0.100000\n",
            " 22830/50000: episode: 216, duration: 1.824s, episode steps: 200, steps per second: 110, episode reward: 200.000, mean reward:  1.000 [ 1.000,  1.000], mean action: 0.500 [0.000, 1.000],  loss: 22.493514, mae: 55.147825, accuracy: 0.667188, mean_q: 111.287335, mean_eps: 0.100000\n",
            " 23030/50000: episode: 217, duration: 1.811s, episode steps: 200, steps per second: 110, episode reward: 200.000, mean reward:  1.000 [ 1.000,  1.000], mean action: 0.505 [0.000, 1.000],  loss: 21.215576, mae: 55.259574, accuracy: 0.657031, mean_q: 111.425058, mean_eps: 0.100000\n",
            " 23230/50000: episode: 218, duration: 1.794s, episode steps: 200, steps per second: 111, episode reward: 200.000, mean reward:  1.000 [ 1.000,  1.000], mean action: 0.510 [0.000, 1.000],  loss: 18.152147, mae: 54.709563, accuracy: 0.662813, mean_q: 110.300410, mean_eps: 0.100000\n",
            " 23430/50000: episode: 219, duration: 1.784s, episode steps: 200, steps per second: 112, episode reward: 200.000, mean reward:  1.000 [ 1.000,  1.000], mean action: 0.495 [0.000, 1.000],  loss: 13.724320, mae: 54.908554, accuracy: 0.648281, mean_q: 110.773981, mean_eps: 0.100000\n",
            " 23630/50000: episode: 220, duration: 1.793s, episode steps: 200, steps per second: 112, episode reward: 200.000, mean reward:  1.000 [ 1.000,  1.000], mean action: 0.510 [0.000, 1.000],  loss: 9.847892, mae: 55.100925, accuracy: 0.640156, mean_q: 111.279347, mean_eps: 0.100000\n",
            " 23830/50000: episode: 221, duration: 1.808s, episode steps: 200, steps per second: 111, episode reward: 200.000, mean reward:  1.000 [ 1.000,  1.000], mean action: 0.505 [0.000, 1.000],  loss: 26.955030, mae: 54.868430, accuracy: 0.625156, mean_q: 110.279321, mean_eps: 0.100000\n",
            " 24030/50000: episode: 222, duration: 1.796s, episode steps: 200, steps per second: 111, episode reward: 200.000, mean reward:  1.000 [ 1.000,  1.000], mean action: 0.515 [0.000, 1.000],  loss: 31.628893, mae: 55.158683, accuracy: 0.627500, mean_q: 110.777126, mean_eps: 0.100000\n",
            " 24230/50000: episode: 223, duration: 1.846s, episode steps: 200, steps per second: 108, episode reward: 200.000, mean reward:  1.000 [ 1.000,  1.000], mean action: 0.510 [0.000, 1.000],  loss: 29.905187, mae: 54.705442, accuracy: 0.620938, mean_q: 110.361353, mean_eps: 0.100000\n",
            " 24407/50000: episode: 224, duration: 1.584s, episode steps: 177, steps per second: 112, episode reward: 177.000, mean reward:  1.000 [ 1.000,  1.000], mean action: 0.525 [0.000, 1.000],  loss: 20.519993, mae: 54.887357, accuracy: 0.608051, mean_q: 110.905672, mean_eps: 0.100000\n",
            " 24607/50000: episode: 225, duration: 1.757s, episode steps: 200, steps per second: 114, episode reward: 200.000, mean reward:  1.000 [ 1.000,  1.000], mean action: 0.515 [0.000, 1.000],  loss: 46.552233, mae: 56.201933, accuracy: 0.654687, mean_q: 112.691116, mean_eps: 0.100000\n",
            " 24807/50000: episode: 226, duration: 1.740s, episode steps: 200, steps per second: 115, episode reward: 200.000, mean reward:  1.000 [ 1.000,  1.000], mean action: 0.510 [0.000, 1.000],  loss: 18.403861, mae: 55.777125, accuracy: 0.622344, mean_q: 112.421172, mean_eps: 0.100000\n",
            " 25007/50000: episode: 227, duration: 1.755s, episode steps: 200, steps per second: 114, episode reward: 200.000, mean reward:  1.000 [ 1.000,  1.000], mean action: 0.520 [0.000, 1.000],  loss: 30.971468, mae: 55.422258, accuracy: 0.617188, mean_q: 111.586130, mean_eps: 0.100000\n",
            " 25207/50000: episode: 228, duration: 1.803s, episode steps: 200, steps per second: 111, episode reward: 200.000, mean reward:  1.000 [ 1.000,  1.000], mean action: 0.520 [0.000, 1.000],  loss: 27.886237, mae: 55.645229, accuracy: 0.646563, mean_q: 111.877953, mean_eps: 0.100000\n",
            " 25407/50000: episode: 229, duration: 1.842s, episode steps: 200, steps per second: 109, episode reward: 200.000, mean reward:  1.000 [ 1.000,  1.000], mean action: 0.515 [0.000, 1.000],  loss: 20.703645, mae: 55.879730, accuracy: 0.646406, mean_q: 112.477031, mean_eps: 0.100000\n",
            " 25607/50000: episode: 230, duration: 1.786s, episode steps: 200, steps per second: 112, episode reward: 200.000, mean reward:  1.000 [ 1.000,  1.000], mean action: 0.510 [0.000, 1.000],  loss: 22.880842, mae: 56.188655, accuracy: 0.646563, mean_q: 113.131156, mean_eps: 0.100000\n",
            " 25807/50000: episode: 231, duration: 1.824s, episode steps: 200, steps per second: 110, episode reward: 200.000, mean reward:  1.000 [ 1.000,  1.000], mean action: 0.515 [0.000, 1.000],  loss: 25.264215, mae: 56.083217, accuracy: 0.648594, mean_q: 112.771226, mean_eps: 0.100000\n",
            " 26007/50000: episode: 232, duration: 1.793s, episode steps: 200, steps per second: 112, episode reward: 200.000, mean reward:  1.000 [ 1.000,  1.000], mean action: 0.510 [0.000, 1.000],  loss: 26.528915, mae: 55.537565, accuracy: 0.628906, mean_q: 111.830330, mean_eps: 0.100000\n",
            " 26207/50000: episode: 233, duration: 1.806s, episode steps: 200, steps per second: 111, episode reward: 200.000, mean reward:  1.000 [ 1.000,  1.000], mean action: 0.515 [0.000, 1.000],  loss: 24.964021, mae: 55.247774, accuracy: 0.632969, mean_q: 110.964906, mean_eps: 0.100000\n",
            " 26407/50000: episode: 234, duration: 1.839s, episode steps: 200, steps per second: 109, episode reward: 200.000, mean reward:  1.000 [ 1.000,  1.000], mean action: 0.485 [0.000, 1.000],  loss: 15.163309, mae: 55.397020, accuracy: 0.634844, mean_q: 111.705779, mean_eps: 0.100000\n",
            " 26607/50000: episode: 235, duration: 1.786s, episode steps: 200, steps per second: 112, episode reward: 200.000, mean reward:  1.000 [ 1.000,  1.000], mean action: 0.510 [0.000, 1.000],  loss: 25.649396, mae: 55.211365, accuracy: 0.633125, mean_q: 111.294999, mean_eps: 0.100000\n",
            " 26807/50000: episode: 236, duration: 1.807s, episode steps: 200, steps per second: 111, episode reward: 200.000, mean reward:  1.000 [ 1.000,  1.000], mean action: 0.515 [0.000, 1.000],  loss: 40.408251, mae: 55.434509, accuracy: 0.628750, mean_q: 111.155168, mean_eps: 0.100000\n",
            " 27007/50000: episode: 237, duration: 1.827s, episode steps: 200, steps per second: 109, episode reward: 200.000, mean reward:  1.000 [ 1.000,  1.000], mean action: 0.510 [0.000, 1.000],  loss: 20.594947, mae: 55.138953, accuracy: 0.625156, mean_q: 111.034838, mean_eps: 0.100000\n",
            " 27207/50000: episode: 238, duration: 1.872s, episode steps: 200, steps per second: 107, episode reward: 200.000, mean reward:  1.000 [ 1.000,  1.000], mean action: 0.515 [0.000, 1.000],  loss: 21.314409, mae: 55.022757, accuracy: 0.645312, mean_q: 110.867013, mean_eps: 0.100000\n",
            " 27407/50000: episode: 239, duration: 1.899s, episode steps: 200, steps per second: 105, episode reward: 200.000, mean reward:  1.000 [ 1.000,  1.000], mean action: 0.505 [0.000, 1.000],  loss: 30.260546, mae: 55.212712, accuracy: 0.628437, mean_q: 110.960688, mean_eps: 0.100000\n",
            " 27601/50000: episode: 240, duration: 1.799s, episode steps: 194, steps per second: 108, episode reward: 194.000, mean reward:  1.000 [ 1.000,  1.000], mean action: 0.521 [0.000, 1.000],  loss: 26.258324, mae: 54.697622, accuracy: 0.598099, mean_q: 110.203731, mean_eps: 0.100000\n",
            " 27788/50000: episode: 241, duration: 1.748s, episode steps: 187, steps per second: 107, episode reward: 187.000, mean reward:  1.000 [ 1.000,  1.000], mean action: 0.519 [0.000, 1.000],  loss: 29.636053, mae: 55.733956, accuracy: 0.594418, mean_q: 112.022166, mean_eps: 0.100000\n",
            " 27988/50000: episode: 242, duration: 1.854s, episode steps: 200, steps per second: 108, episode reward: 200.000, mean reward:  1.000 [ 1.000,  1.000], mean action: 0.510 [0.000, 1.000],  loss: 27.935940, mae: 55.688903, accuracy: 0.606094, mean_q: 112.190163, mean_eps: 0.100000\n",
            " 28188/50000: episode: 243, duration: 1.871s, episode steps: 200, steps per second: 107, episode reward: 200.000, mean reward:  1.000 [ 1.000,  1.000], mean action: 0.515 [0.000, 1.000],  loss: 33.744437, mae: 55.533031, accuracy: 0.593594, mean_q: 111.560075, mean_eps: 0.100000\n",
            " 28385/50000: episode: 244, duration: 1.786s, episode steps: 197, steps per second: 110, episode reward: 197.000, mean reward:  1.000 [ 1.000,  1.000], mean action: 0.518 [0.000, 1.000],  loss: 21.135590, mae: 55.942815, accuracy: 0.589943, mean_q: 112.757976, mean_eps: 0.100000\n",
            " 28582/50000: episode: 245, duration: 1.886s, episode steps: 197, steps per second: 104, episode reward: 197.000, mean reward:  1.000 [ 1.000,  1.000], mean action: 0.518 [0.000, 1.000],  loss: 29.500672, mae: 56.145347, accuracy: 0.596447, mean_q: 112.938789, mean_eps: 0.100000\n",
            " 28766/50000: episode: 246, duration: 1.748s, episode steps: 184, steps per second: 105, episode reward: 184.000, mean reward:  1.000 [ 1.000,  1.000], mean action: 0.522 [0.000, 1.000],  loss: 29.431245, mae: 55.521015, accuracy: 0.600543, mean_q: 111.538739, mean_eps: 0.100000\n",
            " 28954/50000: episode: 247, duration: 1.747s, episode steps: 188, steps per second: 108, episode reward: 188.000, mean reward:  1.000 [ 1.000,  1.000], mean action: 0.516 [0.000, 1.000],  loss: 22.638118, mae: 56.474900, accuracy: 0.593251, mean_q: 113.793069, mean_eps: 0.100000\n",
            " 29154/50000: episode: 248, duration: 1.878s, episode steps: 200, steps per second: 106, episode reward: 200.000, mean reward:  1.000 [ 1.000,  1.000], mean action: 0.515 [0.000, 1.000],  loss: 29.546983, mae: 56.095084, accuracy: 0.598125, mean_q: 112.980504, mean_eps: 0.100000\n",
            " 29350/50000: episode: 249, duration: 1.856s, episode steps: 196, steps per second: 106, episode reward: 196.000, mean reward:  1.000 [ 1.000,  1.000], mean action: 0.515 [0.000, 1.000],  loss: 23.300917, mae: 56.504033, accuracy: 0.588010, mean_q: 113.884996, mean_eps: 0.100000\n",
            " 29541/50000: episode: 250, duration: 1.707s, episode steps: 191, steps per second: 112, episode reward: 191.000, mean reward:  1.000 [ 1.000,  1.000], mean action: 0.518 [0.000, 1.000],  loss: 31.751650, mae: 57.032315, accuracy: 0.595713, mean_q: 114.771832, mean_eps: 0.100000\n",
            " 29739/50000: episode: 251, duration: 1.773s, episode steps: 198, steps per second: 112, episode reward: 198.000, mean reward:  1.000 [ 1.000,  1.000], mean action: 0.515 [0.000, 1.000],  loss: 18.727303, mae: 56.512883, accuracy: 0.602431, mean_q: 114.280054, mean_eps: 0.100000\n",
            " 29939/50000: episode: 252, duration: 1.779s, episode steps: 200, steps per second: 112, episode reward: 200.000, mean reward:  1.000 [ 1.000,  1.000], mean action: 0.515 [0.000, 1.000],  loss: 22.090834, mae: 56.869024, accuracy: 0.599219, mean_q: 114.781289, mean_eps: 0.100000\n",
            " 30139/50000: episode: 253, duration: 1.761s, episode steps: 200, steps per second: 114, episode reward: 200.000, mean reward:  1.000 [ 1.000,  1.000], mean action: 0.510 [0.000, 1.000],  loss: 18.834083, mae: 56.903891, accuracy: 0.604375, mean_q: 114.703570, mean_eps: 0.100000\n",
            " 30339/50000: episode: 254, duration: 1.891s, episode steps: 200, steps per second: 106, episode reward: 200.000, mean reward:  1.000 [ 1.000,  1.000], mean action: 0.515 [0.000, 1.000],  loss: 22.329427, mae: 57.442803, accuracy: 0.612344, mean_q: 116.022926, mean_eps: 0.100000\n",
            " 30539/50000: episode: 255, duration: 1.776s, episode steps: 200, steps per second: 113, episode reward: 200.000, mean reward:  1.000 [ 1.000,  1.000], mean action: 0.510 [0.000, 1.000],  loss: 22.564649, mae: 57.004314, accuracy: 0.607031, mean_q: 115.063370, mean_eps: 0.100000\n",
            " 30739/50000: episode: 256, duration: 1.856s, episode steps: 200, steps per second: 108, episode reward: 200.000, mean reward:  1.000 [ 1.000,  1.000], mean action: 0.510 [0.000, 1.000],  loss: 23.738219, mae: 57.321596, accuracy: 0.603750, mean_q: 115.766059, mean_eps: 0.100000\n",
            " 30939/50000: episode: 257, duration: 1.888s, episode steps: 200, steps per second: 106, episode reward: 200.000, mean reward:  1.000 [ 1.000,  1.000], mean action: 0.515 [0.000, 1.000],  loss: 19.550262, mae: 57.442432, accuracy: 0.597344, mean_q: 116.254334, mean_eps: 0.100000\n",
            " 31139/50000: episode: 258, duration: 1.858s, episode steps: 200, steps per second: 108, episode reward: 200.000, mean reward:  1.000 [ 1.000,  1.000], mean action: 0.510 [0.000, 1.000],  loss: 15.432104, mae: 58.052125, accuracy: 0.590000, mean_q: 117.584953, mean_eps: 0.100000\n",
            " 31338/50000: episode: 259, duration: 1.833s, episode steps: 199, steps per second: 109, episode reward: 199.000, mean reward:  1.000 [ 1.000,  1.000], mean action: 0.513 [0.000, 1.000],  loss: 23.875635, mae: 58.240895, accuracy: 0.605057, mean_q: 117.894867, mean_eps: 0.100000\n",
            " 31535/50000: episode: 260, duration: 1.867s, episode steps: 197, steps per second: 106, episode reward: 197.000, mean reward:  1.000 [ 1.000,  1.000], mean action: 0.518 [0.000, 1.000],  loss: 22.266238, mae: 58.973532, accuracy: 0.583598, mean_q: 119.394679, mean_eps: 0.100000\n",
            " 31735/50000: episode: 261, duration: 1.808s, episode steps: 200, steps per second: 111, episode reward: 200.000, mean reward:  1.000 [ 1.000,  1.000], mean action: 0.515 [0.000, 1.000],  loss: 10.522490, mae: 59.302681, accuracy: 0.592187, mean_q: 120.195840, mean_eps: 0.100000\n",
            " 31935/50000: episode: 262, duration: 1.815s, episode steps: 200, steps per second: 110, episode reward: 200.000, mean reward:  1.000 [ 1.000,  1.000], mean action: 0.510 [0.000, 1.000],  loss: 23.275038, mae: 59.772026, accuracy: 0.605000, mean_q: 121.099932, mean_eps: 0.100000\n",
            " 32135/50000: episode: 263, duration: 1.905s, episode steps: 200, steps per second: 105, episode reward: 200.000, mean reward:  1.000 [ 1.000,  1.000], mean action: 0.515 [0.000, 1.000],  loss: 16.953455, mae: 60.014799, accuracy: 0.593281, mean_q: 121.567307, mean_eps: 0.100000\n",
            " 32335/50000: episode: 264, duration: 1.818s, episode steps: 200, steps per second: 110, episode reward: 200.000, mean reward:  1.000 [ 1.000,  1.000], mean action: 0.515 [0.000, 1.000],  loss: 23.127384, mae: 60.472673, accuracy: 0.607187, mean_q: 122.298674, mean_eps: 0.100000\n",
            " 32535/50000: episode: 265, duration: 1.916s, episode steps: 200, steps per second: 104, episode reward: 200.000, mean reward:  1.000 [ 1.000,  1.000], mean action: 0.515 [0.000, 1.000],  loss: 23.461730, mae: 60.476255, accuracy: 0.603906, mean_q: 122.277375, mean_eps: 0.100000\n",
            " 32735/50000: episode: 266, duration: 1.864s, episode steps: 200, steps per second: 107, episode reward: 200.000, mean reward:  1.000 [ 1.000,  1.000], mean action: 0.510 [0.000, 1.000],  loss: 20.742545, mae: 60.597611, accuracy: 0.619062, mean_q: 122.570281, mean_eps: 0.100000\n",
            " 32932/50000: episode: 267, duration: 1.878s, episode steps: 197, steps per second: 105, episode reward: 197.000, mean reward:  1.000 [ 1.000,  1.000], mean action: 0.513 [0.000, 1.000],  loss: 23.729475, mae: 61.408968, accuracy: 0.597081, mean_q: 124.238918, mean_eps: 0.100000\n",
            " 33118/50000: episode: 268, duration: 1.702s, episode steps: 186, steps per second: 109, episode reward: 186.000, mean reward:  1.000 [ 1.000,  1.000], mean action: 0.516 [0.000, 1.000],  loss: 19.187170, mae: 61.328647, accuracy: 0.600470, mean_q: 124.155248, mean_eps: 0.100000\n",
            " 33309/50000: episode: 269, duration: 1.756s, episode steps: 191, steps per second: 109, episode reward: 191.000, mean reward:  1.000 [ 1.000,  1.000], mean action: 0.518 [0.000, 1.000],  loss: 25.348033, mae: 61.848093, accuracy: 0.599149, mean_q: 125.181939, mean_eps: 0.100000\n",
            " 33498/50000: episode: 270, duration: 1.726s, episode steps: 189, steps per second: 110, episode reward: 189.000, mean reward:  1.000 [ 1.000,  1.000], mean action: 0.513 [0.000, 1.000],  loss: 17.431427, mae: 61.921571, accuracy: 0.604167, mean_q: 125.195114, mean_eps: 0.100000\n",
            " 33698/50000: episode: 271, duration: 1.855s, episode steps: 200, steps per second: 108, episode reward: 200.000, mean reward:  1.000 [ 1.000,  1.000], mean action: 0.515 [0.000, 1.000],  loss: 22.090925, mae: 61.907481, accuracy: 0.612656, mean_q: 125.245948, mean_eps: 0.100000\n",
            " 33898/50000: episode: 272, duration: 1.867s, episode steps: 200, steps per second: 107, episode reward: 200.000, mean reward:  1.000 [ 1.000,  1.000], mean action: 0.515 [0.000, 1.000],  loss: 24.059752, mae: 62.122354, accuracy: 0.612812, mean_q: 125.681530, mean_eps: 0.100000\n",
            " 34082/50000: episode: 273, duration: 1.678s, episode steps: 184, steps per second: 110, episode reward: 184.000, mean reward:  1.000 [ 1.000,  1.000], mean action: 0.516 [0.000, 1.000],  loss: 14.371992, mae: 62.084821, accuracy: 0.608696, mean_q: 125.960449, mean_eps: 0.100000\n",
            " 34280/50000: episode: 274, duration: 1.836s, episode steps: 198, steps per second: 108, episode reward: 198.000, mean reward:  1.000 [ 1.000,  1.000], mean action: 0.510 [0.000, 1.000],  loss: 14.968121, mae: 62.461309, accuracy: 0.621528, mean_q: 126.686450, mean_eps: 0.100000\n",
            " 34480/50000: episode: 275, duration: 1.802s, episode steps: 200, steps per second: 111, episode reward: 200.000, mean reward:  1.000 [ 1.000,  1.000], mean action: 0.510 [0.000, 1.000],  loss: 25.979909, mae: 62.397690, accuracy: 0.631563, mean_q: 126.329445, mean_eps: 0.100000\n",
            " 34667/50000: episode: 276, duration: 1.756s, episode steps: 187, steps per second: 106, episode reward: 187.000, mean reward:  1.000 [ 1.000,  1.000], mean action: 0.519 [0.000, 1.000],  loss: 21.244927, mae: 62.202983, accuracy: 0.616310, mean_q: 125.885968, mean_eps: 0.100000\n",
            " 34853/50000: episode: 277, duration: 1.696s, episode steps: 186, steps per second: 110, episode reward: 186.000, mean reward:  1.000 [ 1.000,  1.000], mean action: 0.516 [0.000, 1.000],  loss: 15.187627, mae: 62.243882, accuracy: 0.618112, mean_q: 125.887980, mean_eps: 0.100000\n",
            " 35049/50000: episode: 278, duration: 1.876s, episode steps: 196, steps per second: 104, episode reward: 196.000, mean reward:  1.000 [ 1.000,  1.000], mean action: 0.510 [0.000, 1.000],  loss: 18.158711, mae: 62.207268, accuracy: 0.615274, mean_q: 125.957173, mean_eps: 0.100000\n",
            " 35249/50000: episode: 279, duration: 1.810s, episode steps: 200, steps per second: 110, episode reward: 200.000, mean reward:  1.000 [ 1.000,  1.000], mean action: 0.515 [0.000, 1.000],  loss: 16.991897, mae: 62.095669, accuracy: 0.636719, mean_q: 125.650883, mean_eps: 0.100000\n",
            " 35449/50000: episode: 280, duration: 1.881s, episode steps: 200, steps per second: 106, episode reward: 200.000, mean reward:  1.000 [ 1.000,  1.000], mean action: 0.515 [0.000, 1.000],  loss: 17.827270, mae: 61.994365, accuracy: 0.618750, mean_q: 125.315052, mean_eps: 0.100000\n",
            " 35646/50000: episode: 281, duration: 1.783s, episode steps: 197, steps per second: 110, episode reward: 197.000, mean reward:  1.000 [ 1.000,  1.000], mean action: 0.518 [0.000, 1.000],  loss: 18.288442, mae: 61.948045, accuracy: 0.613261, mean_q: 125.283757, mean_eps: 0.100000\n",
            " 35841/50000: episode: 282, duration: 1.760s, episode steps: 195, steps per second: 111, episode reward: 195.000, mean reward:  1.000 [ 1.000,  1.000], mean action: 0.513 [0.000, 1.000],  loss: 11.268726, mae: 62.275068, accuracy: 0.605288, mean_q: 126.368366, mean_eps: 0.100000\n",
            " 36033/50000: episode: 283, duration: 1.714s, episode steps: 192, steps per second: 112, episode reward: 192.000, mean reward:  1.000 [ 1.000,  1.000], mean action: 0.510 [0.000, 1.000],  loss: 14.230205, mae: 62.494646, accuracy: 0.603353, mean_q: 126.713304, mean_eps: 0.100000\n",
            " 36210/50000: episode: 284, duration: 1.591s, episode steps: 177, steps per second: 111, episode reward: 177.000, mean reward:  1.000 [ 1.000,  1.000], mean action: 0.520 [0.000, 1.000],  loss: 13.907420, mae: 62.910212, accuracy: 0.596222, mean_q: 127.518922, mean_eps: 0.100000\n",
            " 36387/50000: episode: 285, duration: 1.577s, episode steps: 177, steps per second: 112, episode reward: 177.000, mean reward:  1.000 [ 1.000,  1.000], mean action: 0.514 [0.000, 1.000],  loss: 15.612373, mae: 62.518608, accuracy: 0.610169, mean_q: 126.883551, mean_eps: 0.100000\n",
            " 36571/50000: episode: 286, duration: 1.700s, episode steps: 184, steps per second: 108, episode reward: 184.000, mean reward:  1.000 [ 1.000,  1.000], mean action: 0.511 [0.000, 1.000],  loss: 12.443327, mae: 62.792669, accuracy: 0.602412, mean_q: 127.367633, mean_eps: 0.100000\n",
            " 36767/50000: episode: 287, duration: 1.781s, episode steps: 196, steps per second: 110, episode reward: 196.000, mean reward:  1.000 [ 1.000,  1.000], mean action: 0.510 [0.000, 1.000],  loss: 20.770905, mae: 62.847727, accuracy: 0.629464, mean_q: 127.192990, mean_eps: 0.100000\n",
            " 36949/50000: episode: 288, duration: 1.708s, episode steps: 182, steps per second: 107, episode reward: 182.000, mean reward:  1.000 [ 1.000,  1.000], mean action: 0.511 [0.000, 1.000],  loss: 9.212871, mae: 61.938875, accuracy: 0.624657, mean_q: 125.747823, mean_eps: 0.100000\n",
            " 37135/50000: episode: 289, duration: 1.711s, episode steps: 186, steps per second: 109, episode reward: 186.000, mean reward:  1.000 [ 1.000,  1.000], mean action: 0.511 [0.000, 1.000],  loss: 9.331185, mae: 62.493181, accuracy: 0.617440, mean_q: 126.718733, mean_eps: 0.100000\n",
            " 37318/50000: episode: 290, duration: 1.734s, episode steps: 183, steps per second: 106, episode reward: 183.000, mean reward:  1.000 [ 1.000,  1.000], mean action: 0.514 [0.000, 1.000],  loss: 12.874696, mae: 62.338420, accuracy: 0.613046, mean_q: 126.240646, mean_eps: 0.100000\n",
            " 37506/50000: episode: 291, duration: 1.820s, episode steps: 188, steps per second: 103, episode reward: 188.000, mean reward:  1.000 [ 1.000,  1.000], mean action: 0.511 [0.000, 1.000],  loss: 12.877583, mae: 62.622551, accuracy: 0.623005, mean_q: 126.843096, mean_eps: 0.100000\n",
            " 37706/50000: episode: 292, duration: 1.817s, episode steps: 200, steps per second: 110, episode reward: 200.000, mean reward:  1.000 [ 1.000,  1.000], mean action: 0.515 [0.000, 1.000],  loss: 10.911748, mae: 62.470645, accuracy: 0.624844, mean_q: 126.546013, mean_eps: 0.100000\n",
            " 37885/50000: episode: 293, duration: 1.763s, episode steps: 179, steps per second: 102, episode reward: 179.000, mean reward:  1.000 [ 1.000,  1.000], mean action: 0.508 [0.000, 1.000],  loss: 16.333665, mae: 62.475953, accuracy: 0.619064, mean_q: 126.347090, mean_eps: 0.100000\n",
            " 38085/50000: episode: 294, duration: 1.874s, episode steps: 200, steps per second: 107, episode reward: 200.000, mean reward:  1.000 [ 1.000,  1.000], mean action: 0.515 [0.000, 1.000],  loss: 18.680664, mae: 62.623394, accuracy: 0.622344, mean_q: 126.653624, mean_eps: 0.100000\n",
            " 38276/50000: episode: 295, duration: 1.860s, episode steps: 191, steps per second: 103, episode reward: 191.000, mean reward:  1.000 [ 1.000,  1.000], mean action: 0.508 [0.000, 1.000],  loss: 12.250753, mae: 62.016825, accuracy: 0.626963, mean_q: 125.776554, mean_eps: 0.100000\n",
            " 38470/50000: episode: 296, duration: 1.742s, episode steps: 194, steps per second: 111, episode reward: 194.000, mean reward:  1.000 [ 1.000,  1.000], mean action: 0.510 [0.000, 1.000],  loss: 13.291247, mae: 62.374812, accuracy: 0.621456, mean_q: 126.497589, mean_eps: 0.100000\n",
            " 38661/50000: episode: 297, duration: 1.746s, episode steps: 191, steps per second: 109, episode reward: 191.000, mean reward:  1.000 [ 1.000,  1.000], mean action: 0.513 [0.000, 1.000],  loss: 18.076757, mae: 62.760966, accuracy: 0.626145, mean_q: 127.141545, mean_eps: 0.100000\n",
            " 38843/50000: episode: 298, duration: 1.726s, episode steps: 182, steps per second: 105, episode reward: 182.000, mean reward:  1.000 [ 1.000,  1.000], mean action: 0.516 [0.000, 1.000],  loss: 18.973226, mae: 62.635943, accuracy: 0.623626, mean_q: 126.758433, mean_eps: 0.100000\n",
            " 39027/50000: episode: 299, duration: 1.675s, episode steps: 184, steps per second: 110, episode reward: 184.000, mean reward:  1.000 [ 1.000,  1.000], mean action: 0.516 [0.000, 1.000],  loss: 15.565381, mae: 62.798705, accuracy: 0.624490, mean_q: 127.270061, mean_eps: 0.100000\n",
            " 39218/50000: episode: 300, duration: 1.743s, episode steps: 191, steps per second: 110, episode reward: 191.000, mean reward:  1.000 [ 1.000,  1.000], mean action: 0.513 [0.000, 1.000],  loss: 14.609549, mae: 61.891881, accuracy: 0.613384, mean_q: 125.300531, mean_eps: 0.100000\n",
            " 39404/50000: episode: 301, duration: 1.736s, episode steps: 186, steps per second: 107, episode reward: 186.000, mean reward:  1.000 [ 1.000,  1.000], mean action: 0.516 [0.000, 1.000],  loss: 14.068743, mae: 62.067854, accuracy: 0.602487, mean_q: 125.821205, mean_eps: 0.100000\n",
            " 39595/50000: episode: 302, duration: 1.779s, episode steps: 191, steps per second: 107, episode reward: 191.000, mean reward:  1.000 [ 1.000,  1.000], mean action: 0.513 [0.000, 1.000],  loss: 18.172132, mae: 62.006929, accuracy: 0.626800, mean_q: 125.460340, mean_eps: 0.100000\n",
            " 39778/50000: episode: 303, duration: 1.694s, episode steps: 183, steps per second: 108, episode reward: 183.000, mean reward:  1.000 [ 1.000,  1.000], mean action: 0.519 [0.000, 1.000],  loss: 10.061779, mae: 61.988283, accuracy: 0.614071, mean_q: 125.664040, mean_eps: 0.100000\n",
            " 39975/50000: episode: 304, duration: 1.792s, episode steps: 197, steps per second: 110, episode reward: 197.000, mean reward:  1.000 [ 1.000,  1.000], mean action: 0.518 [0.000, 1.000],  loss: 15.375006, mae: 62.319388, accuracy: 0.617227, mean_q: 126.015950, mean_eps: 0.100000\n",
            " 40175/50000: episode: 305, duration: 1.825s, episode steps: 200, steps per second: 110, episode reward: 200.000, mean reward:  1.000 [ 1.000,  1.000], mean action: 0.515 [0.000, 1.000],  loss: 13.122620, mae: 61.955294, accuracy: 0.624687, mean_q: 125.347597, mean_eps: 0.100000\n",
            " 40366/50000: episode: 306, duration: 1.777s, episode steps: 191, steps per second: 107, episode reward: 191.000, mean reward:  1.000 [ 1.000,  1.000], mean action: 0.513 [0.000, 1.000],  loss: 10.872697, mae: 61.885853, accuracy: 0.620910, mean_q: 125.289075, mean_eps: 0.100000\n",
            " 40565/50000: episode: 307, duration: 1.843s, episode steps: 199, steps per second: 108, episode reward: 199.000, mean reward:  1.000 [ 1.000,  1.000], mean action: 0.518 [0.000, 1.000],  loss: 17.586959, mae: 62.152010, accuracy: 0.629397, mean_q: 125.586741, mean_eps: 0.100000\n",
            " 40764/50000: episode: 308, duration: 1.802s, episode steps: 199, steps per second: 110, episode reward: 199.000, mean reward:  1.000 [ 1.000,  1.000], mean action: 0.518 [0.000, 1.000],  loss: 13.235432, mae: 61.961894, accuracy: 0.625942, mean_q: 125.283843, mean_eps: 0.100000\n",
            " 40959/50000: episode: 309, duration: 1.830s, episode steps: 195, steps per second: 107, episode reward: 195.000, mean reward:  1.000 [ 1.000,  1.000], mean action: 0.518 [0.000, 1.000],  loss: 18.571611, mae: 61.322986, accuracy: 0.630449, mean_q: 123.820943, mean_eps: 0.100000\n",
            " 41159/50000: episode: 310, duration: 1.887s, episode steps: 200, steps per second: 106, episode reward: 200.000, mean reward:  1.000 [ 1.000,  1.000], mean action: 0.515 [0.000, 1.000],  loss: 10.284595, mae: 61.678525, accuracy: 0.624844, mean_q: 124.683913, mean_eps: 0.100000\n",
            " 41359/50000: episode: 311, duration: 1.834s, episode steps: 200, steps per second: 109, episode reward: 200.000, mean reward:  1.000 [ 1.000,  1.000], mean action: 0.515 [0.000, 1.000],  loss: 12.784046, mae: 61.321663, accuracy: 0.615781, mean_q: 123.750195, mean_eps: 0.100000\n",
            " 41556/50000: episode: 312, duration: 1.923s, episode steps: 197, steps per second: 102, episode reward: 197.000, mean reward:  1.000 [ 1.000,  1.000], mean action: 0.518 [0.000, 1.000],  loss: 14.221824, mae: 61.617685, accuracy: 0.625635, mean_q: 124.369088, mean_eps: 0.100000\n",
            " 41756/50000: episode: 313, duration: 1.861s, episode steps: 200, steps per second: 107, episode reward: 200.000, mean reward:  1.000 [ 1.000,  1.000], mean action: 0.515 [0.000, 1.000],  loss: 13.284335, mae: 60.694337, accuracy: 0.625313, mean_q: 122.511792, mean_eps: 0.100000\n",
            " 41940/50000: episode: 314, duration: 1.739s, episode steps: 184, steps per second: 106, episode reward: 184.000, mean reward:  1.000 [ 1.000,  1.000], mean action: 0.522 [0.000, 1.000],  loss: 9.680640, mae: 61.223123, accuracy: 0.616848, mean_q: 123.885586, mean_eps: 0.100000\n",
            " 42132/50000: episode: 315, duration: 1.786s, episode steps: 192, steps per second: 107, episode reward: 192.000, mean reward:  1.000 [ 1.000,  1.000], mean action: 0.516 [0.000, 1.000],  loss: 17.679313, mae: 60.965284, accuracy: 0.622559, mean_q: 122.856232, mean_eps: 0.100000\n",
            " 42319/50000: episode: 316, duration: 1.669s, episode steps: 187, steps per second: 112, episode reward: 187.000, mean reward:  1.000 [ 1.000,  1.000], mean action: 0.519 [0.000, 1.000],  loss: 10.356248, mae: 60.886840, accuracy: 0.612132, mean_q: 122.827158, mean_eps: 0.100000\n",
            " 42497/50000: episode: 317, duration: 1.596s, episode steps: 178, steps per second: 112, episode reward: 178.000, mean reward:  1.000 [ 1.000,  1.000], mean action: 0.517 [0.000, 1.000],  loss: 16.121574, mae: 60.269990, accuracy: 0.616749, mean_q: 121.556420, mean_eps: 0.100000\n",
            " 42690/50000: episode: 318, duration: 1.711s, episode steps: 193, steps per second: 113, episode reward: 193.000, mean reward:  1.000 [ 1.000,  1.000], mean action: 0.518 [0.000, 1.000],  loss: 13.559195, mae: 60.233969, accuracy: 0.625486, mean_q: 121.405359, mean_eps: 0.100000\n",
            " 42870/50000: episode: 319, duration: 1.664s, episode steps: 180, steps per second: 108, episode reward: 180.000, mean reward:  1.000 [ 1.000,  1.000], mean action: 0.522 [0.000, 1.000],  loss: 13.015873, mae: 59.420379, accuracy: 0.608681, mean_q: 120.023711, mean_eps: 0.100000\n",
            " 43070/50000: episode: 320, duration: 1.866s, episode steps: 200, steps per second: 107, episode reward: 200.000, mean reward:  1.000 [ 1.000,  1.000], mean action: 0.520 [0.000, 1.000],  loss: 13.723172, mae: 60.509626, accuracy: 0.609219, mean_q: 122.110681, mean_eps: 0.100000\n",
            " 43251/50000: episode: 321, duration: 1.662s, episode steps: 181, steps per second: 109, episode reward: 181.000, mean reward:  1.000 [ 1.000,  1.000], mean action: 0.519 [0.000, 1.000],  loss: 14.366179, mae: 60.676364, accuracy: 0.607390, mean_q: 122.250623, mean_eps: 0.100000\n",
            " 43451/50000: episode: 322, duration: 1.803s, episode steps: 200, steps per second: 111, episode reward: 200.000, mean reward:  1.000 [ 1.000,  1.000], mean action: 0.515 [0.000, 1.000],  loss: 7.198465, mae: 60.229774, accuracy: 0.625938, mean_q: 121.537935, mean_eps: 0.100000\n",
            " 43643/50000: episode: 323, duration: 1.770s, episode steps: 192, steps per second: 108, episode reward: 192.000, mean reward:  1.000 [ 1.000,  1.000], mean action: 0.521 [0.000, 1.000],  loss: 12.086151, mae: 59.797860, accuracy: 0.614421, mean_q: 120.551028, mean_eps: 0.100000\n",
            " 43832/50000: episode: 324, duration: 1.800s, episode steps: 189, steps per second: 105, episode reward: 189.000, mean reward:  1.000 [ 1.000,  1.000], mean action: 0.519 [0.000, 1.000],  loss: 9.349065, mae: 59.162326, accuracy: 0.620370, mean_q: 119.363706, mean_eps: 0.100000\n",
            " 44020/50000: episode: 325, duration: 1.774s, episode steps: 188, steps per second: 106, episode reward: 188.000, mean reward:  1.000 [ 1.000,  1.000], mean action: 0.516 [0.000, 1.000],  loss: 10.903018, mae: 59.330517, accuracy: 0.617021, mean_q: 119.585394, mean_eps: 0.100000\n",
            " 44212/50000: episode: 326, duration: 1.800s, episode steps: 192, steps per second: 107, episode reward: 192.000, mean reward:  1.000 [ 1.000,  1.000], mean action: 0.516 [0.000, 1.000],  loss: 14.449676, mae: 59.478519, accuracy: 0.618001, mean_q: 119.801711, mean_eps: 0.100000\n",
            " 44400/50000: episode: 327, duration: 1.788s, episode steps: 188, steps per second: 105, episode reward: 188.000, mean reward:  1.000 [ 1.000,  1.000], mean action: 0.516 [0.000, 1.000],  loss: 9.959747, mae: 58.753589, accuracy: 0.620512, mean_q: 118.493044, mean_eps: 0.100000\n",
            " 44599/50000: episode: 328, duration: 1.903s, episode steps: 199, steps per second: 105, episode reward: 199.000, mean reward:  1.000 [ 1.000,  1.000], mean action: 0.518 [0.000, 1.000],  loss: 9.903640, mae: 59.040342, accuracy: 0.615107, mean_q: 118.922236, mean_eps: 0.100000\n",
            " 44799/50000: episode: 329, duration: 1.852s, episode steps: 200, steps per second: 108, episode reward: 200.000, mean reward:  1.000 [ 1.000,  1.000], mean action: 0.515 [0.000, 1.000],  loss: 8.023584, mae: 58.563277, accuracy: 0.625156, mean_q: 118.049409, mean_eps: 0.100000\n",
            " 44993/50000: episode: 330, duration: 1.780s, episode steps: 194, steps per second: 109, episode reward: 194.000, mean reward:  1.000 [ 1.000,  1.000], mean action: 0.515 [0.000, 1.000],  loss: 8.098867, mae: 58.601850, accuracy: 0.646263, mean_q: 118.085119, mean_eps: 0.100000\n",
            " 45185/50000: episode: 331, duration: 1.864s, episode steps: 192, steps per second: 103, episode reward: 192.000, mean reward:  1.000 [ 1.000,  1.000], mean action: 0.516 [0.000, 1.000],  loss: 9.939332, mae: 58.057476, accuracy: 0.628418, mean_q: 116.932689, mean_eps: 0.100000\n",
            " 45380/50000: episode: 332, duration: 1.890s, episode steps: 195, steps per second: 103, episode reward: 195.000, mean reward:  1.000 [ 1.000,  1.000], mean action: 0.518 [0.000, 1.000],  loss: 10.261021, mae: 57.838055, accuracy: 0.620994, mean_q: 116.687594, mean_eps: 0.100000\n",
            " 45561/50000: episode: 333, duration: 1.682s, episode steps: 181, steps per second: 108, episode reward: 181.000, mean reward:  1.000 [ 1.000,  1.000], mean action: 0.519 [0.000, 1.000],  loss: 15.553178, mae: 58.157125, accuracy: 0.602555, mean_q: 116.960769, mean_eps: 0.100000\n",
            " 45758/50000: episode: 334, duration: 1.829s, episode steps: 197, steps per second: 108, episode reward: 197.000, mean reward:  1.000 [ 1.000,  1.000], mean action: 0.518 [0.000, 1.000],  loss: 8.234571, mae: 57.793638, accuracy: 0.618496, mean_q: 116.416568, mean_eps: 0.100000\n",
            " 45956/50000: episode: 335, duration: 1.836s, episode steps: 198, steps per second: 108, episode reward: 198.000, mean reward:  1.000 [ 1.000,  1.000], mean action: 0.515 [0.000, 1.000],  loss: 8.701938, mae: 57.454916, accuracy: 0.603062, mean_q: 115.754105, mean_eps: 0.100000\n",
            " 46153/50000: episode: 336, duration: 1.837s, episode steps: 197, steps per second: 107, episode reward: 197.000, mean reward:  1.000 [ 1.000,  1.000], mean action: 0.523 [0.000, 1.000],  loss: 10.779007, mae: 58.047233, accuracy: 0.613103, mean_q: 116.963394, mean_eps: 0.100000\n",
            " 46346/50000: episode: 337, duration: 1.870s, episode steps: 193, steps per second: 103, episode reward: 193.000, mean reward:  1.000 [ 1.000,  1.000], mean action: 0.518 [0.000, 1.000],  loss: 11.447523, mae: 57.317283, accuracy: 0.627753, mean_q: 115.588613, mean_eps: 0.100000\n",
            " 46533/50000: episode: 338, duration: 1.829s, episode steps: 187, steps per second: 102, episode reward: 187.000, mean reward:  1.000 [ 1.000,  1.000], mean action: 0.524 [0.000, 1.000],  loss: 9.904185, mae: 57.822682, accuracy: 0.632353, mean_q: 116.412171, mean_eps: 0.100000\n",
            " 46728/50000: episode: 339, duration: 1.900s, episode steps: 195, steps per second: 103, episode reward: 195.000, mean reward:  1.000 [ 1.000,  1.000], mean action: 0.518 [0.000, 1.000],  loss: 11.850127, mae: 57.616310, accuracy: 0.623558, mean_q: 115.918637, mean_eps: 0.100000\n",
            " 46928/50000: episode: 340, duration: 1.969s, episode steps: 200, steps per second: 102, episode reward: 200.000, mean reward:  1.000 [ 1.000,  1.000], mean action: 0.520 [0.000, 1.000],  loss: 9.996663, mae: 57.421353, accuracy: 0.635938, mean_q: 115.496015, mean_eps: 0.100000\n",
            " 47128/50000: episode: 341, duration: 1.877s, episode steps: 200, steps per second: 107, episode reward: 200.000, mean reward:  1.000 [ 1.000,  1.000], mean action: 0.515 [0.000, 1.000],  loss: 9.166210, mae: 57.158966, accuracy: 0.636719, mean_q: 115.041070, mean_eps: 0.100000\n",
            " 47328/50000: episode: 342, duration: 1.892s, episode steps: 200, steps per second: 106, episode reward: 200.000, mean reward:  1.000 [ 1.000,  1.000], mean action: 0.520 [0.000, 1.000],  loss: 11.472091, mae: 56.505225, accuracy: 0.639219, mean_q: 113.722920, mean_eps: 0.100000\n",
            " 47525/50000: episode: 343, duration: 1.806s, episode steps: 197, steps per second: 109, episode reward: 197.000, mean reward:  1.000 [ 1.000,  1.000], mean action: 0.518 [0.000, 1.000],  loss: 9.285493, mae: 56.892251, accuracy: 0.634042, mean_q: 114.629746, mean_eps: 0.100000\n",
            " 47725/50000: episode: 344, duration: 1.852s, episode steps: 200, steps per second: 108, episode reward: 200.000, mean reward:  1.000 [ 1.000,  1.000], mean action: 0.515 [0.000, 1.000],  loss: 5.044864, mae: 56.754988, accuracy: 0.632031, mean_q: 114.287354, mean_eps: 0.100000\n",
            " 47925/50000: episode: 345, duration: 1.902s, episode steps: 200, steps per second: 105, episode reward: 200.000, mean reward:  1.000 [ 1.000,  1.000], mean action: 0.515 [0.000, 1.000],  loss: 6.615167, mae: 56.364443, accuracy: 0.638125, mean_q: 113.581989, mean_eps: 0.100000\n",
            " 48120/50000: episode: 346, duration: 1.829s, episode steps: 195, steps per second: 107, episode reward: 195.000, mean reward:  1.000 [ 1.000,  1.000], mean action: 0.518 [0.000, 1.000],  loss: 12.099119, mae: 55.945089, accuracy: 0.625801, mean_q: 112.552750, mean_eps: 0.100000\n",
            " 48320/50000: episode: 347, duration: 1.904s, episode steps: 200, steps per second: 105, episode reward: 200.000, mean reward:  1.000 [ 1.000,  1.000], mean action: 0.515 [0.000, 1.000],  loss: 9.355757, mae: 55.698345, accuracy: 0.635625, mean_q: 112.132618, mean_eps: 0.100000\n",
            " 48508/50000: episode: 348, duration: 1.800s, episode steps: 188, steps per second: 104, episode reward: 188.000, mean reward:  1.000 [ 1.000,  1.000], mean action: 0.516 [0.000, 1.000],  loss: 11.275851, mae: 55.697601, accuracy: 0.617686, mean_q: 111.969356, mean_eps: 0.100000\n",
            " 48708/50000: episode: 349, duration: 1.952s, episode steps: 200, steps per second: 102, episode reward: 200.000, mean reward:  1.000 [ 1.000,  1.000], mean action: 0.515 [0.000, 1.000],  loss: 8.030688, mae: 56.140595, accuracy: 0.629375, mean_q: 112.994164, mean_eps: 0.100000\n",
            " 48908/50000: episode: 350, duration: 1.894s, episode steps: 200, steps per second: 106, episode reward: 200.000, mean reward:  1.000 [ 1.000,  1.000], mean action: 0.515 [0.000, 1.000],  loss: 8.493995, mae: 56.080353, accuracy: 0.618125, mean_q: 113.124053, mean_eps: 0.100000\n",
            " 49108/50000: episode: 351, duration: 1.950s, episode steps: 200, steps per second: 103, episode reward: 200.000, mean reward:  1.000 [ 1.000,  1.000], mean action: 0.510 [0.000, 1.000],  loss: 7.185409, mae: 55.257868, accuracy: 0.642031, mean_q: 111.299255, mean_eps: 0.100000\n",
            " 49308/50000: episode: 352, duration: 1.900s, episode steps: 200, steps per second: 105, episode reward: 200.000, mean reward:  1.000 [ 1.000,  1.000], mean action: 0.515 [0.000, 1.000],  loss: 9.180665, mae: 55.145984, accuracy: 0.625469, mean_q: 111.012749, mean_eps: 0.100000\n",
            " 49508/50000: episode: 353, duration: 1.849s, episode steps: 200, steps per second: 108, episode reward: 200.000, mean reward:  1.000 [ 1.000,  1.000], mean action: 0.510 [0.000, 1.000],  loss: 7.849369, mae: 54.672740, accuracy: 0.636094, mean_q: 110.174193, mean_eps: 0.100000\n",
            " 49708/50000: episode: 354, duration: 1.880s, episode steps: 200, steps per second: 106, episode reward: 200.000, mean reward:  1.000 [ 1.000,  1.000], mean action: 0.515 [0.000, 1.000],  loss: 11.142183, mae: 54.920420, accuracy: 0.629531, mean_q: 110.461302, mean_eps: 0.100000\n",
            " 49908/50000: episode: 355, duration: 1.958s, episode steps: 200, steps per second: 102, episode reward: 200.000, mean reward:  1.000 [ 1.000,  1.000], mean action: 0.515 [0.000, 1.000],  loss: 7.303156, mae: 54.699070, accuracy: 0.638750, mean_q: 110.192736, mean_eps: 0.100000\n",
            "done, took 460.269 seconds\n"
          ]
        }
      ]
    },
    {
      "cell_type": "code",
      "source": [
        "import matplotlib.pyplot as plt\n",
        "# Visualize the history for number of Training episode steps of the Cart Pole Game\n",
        "plt.figure(figsize = (18,10))\n",
        "plt.plot(history.history['nb_episode_steps'])\n",
        "plt.ylabel('nb_episode_steps')\n",
        "plt.xlabel('episodes')\n",
        "plt.show()"
      ],
      "metadata": {
        "id": "jRvHOzEWbZsE",
        "colab": {
          "base_uri": "https://localhost:8080/",
          "height": 606
        },
        "outputId": "83432fa4-545f-4fe8-9f08-2a40a8746121"
      },
      "execution_count": null,
      "outputs": [
        {
          "output_type": "display_data",
          "data": {
            "text/plain": [
              "<Figure size 1296x720 with 1 Axes>"
            ],
            "image/png": "[encoded data removed]"
          },
          "metadata": {
            "needs_background": "light"
          }
        }
      ]
    },
    {
      "cell_type": "code",
      "source": [
        "# Finally, evaluate and test our algorithm for 20 episodes.\n",
        "dqn.test(env, nb_episodes=20, visualize=False)"
      ],
      "metadata": {
        "colab": {
          "base_uri": "https://localhost:8080/"
        },
        "id": "VdowKLfDScuW",
        "outputId": "27a90a48-38f8-43e2-d4d3-dafcb389d9b8"
      },
      "execution_count": null,
      "outputs": [
        {
          "output_type": "stream",
          "name": "stdout",
          "text": [
            "Testing for 20 episodes ...\n",
            "Episode 1: reward: 200.000, steps: 200\n",
            "Episode 2: reward: 200.000, steps: 200\n",
            "Episode 3: reward: 200.000, steps: 200\n",
            "Episode 4: reward: 200.000, steps: 200\n",
            "Episode 5: reward: 200.000, steps: 200\n",
            "Episode 6: reward: 200.000, steps: 200\n",
            "Episode 7: reward: 200.000, steps: 200\n",
            "Episode 8: reward: 200.000, steps: 200\n",
            "Episode 9: reward: 200.000, steps: 200\n",
            "Episode 10: reward: 200.000, steps: 200\n",
            "Episode 11: reward: 200.000, steps: 200\n",
            "Episode 12: reward: 200.000, steps: 200\n",
            "Episode 13: reward: 200.000, steps: 200\n",
            "Episode 14: reward: 200.000, steps: 200\n",
            "Episode 15: reward: 200.000, steps: 200\n",
            "Episode 16: reward: 200.000, steps: 200\n",
            "Episode 17: reward: 200.000, steps: 200\n",
            "Episode 18: reward: 200.000, steps: 200\n",
            "Episode 19: reward: 200.000, steps: 200\n",
            "Episode 20: reward: 200.000, steps: 200\n"
          ]
        },
        {
          "output_type": "execute_result",
          "data": {
            "text/plain": [
              "<keras.callbacks.History at 0x7f6fdb115a50>"
            ]
          },
          "metadata": {},
          "execution_count": 48
        }
      ]
    },
    {
      "cell_type": "markdown",
      "source": [
        "**Training with TF-Agent**"
      ],
      "metadata": {
        "id": "7nV4e3-k5dju"
      }
    },
    {
      "cell_type": "code",
      "source": [
        "!pip install pygame\n",
        "!pip install 'imageio==2.4.0'\n",
        "!pip install pyvirtualdisplay\n",
        "!pip install tf-agents[reverb]\n",
        "!pip install pyglet"
      ],
      "metadata": {
        "colab": {
          "base_uri": "https://localhost:8080/"
        },
        "id": "FQNSQmSI5ff3",
        "outputId": "cb057dd8-908a-466a-ed0f-97d6622f49c6"
      },
      "execution_count": null,
      "outputs": [
        {
          "output_type": "stream",
          "name": "stdout",
          "text": [
            "Looking in indexes: https://pypi.org/simple, https://us-python.pkg.dev/colab-wheels/public/simple/\n",
            "Requirement already satisfied: pygame in /usr/local/lib/python3.7/dist-packages (2.1.0)\n",
            "Looking in indexes: https://pypi.org/simple, https://us-python.pkg.dev/colab-wheels/public/simple/\n",
            "Requirement already satisfied: imageio==2.4.0 in /usr/local/lib/python3.7/dist-packages (2.4.0)\n",
            "Requirement already satisfied: numpy in /usr/local/lib/python3.7/dist-packages (from imageio==2.4.0) (1.21.6)\n",
            "Requirement already satisfied: pillow in /usr/local/lib/python3.7/dist-packages (from imageio==2.4.0) (7.1.2)\n",
            "Looking in indexes: https://pypi.org/simple, https://us-python.pkg.dev/colab-wheels/public/simple/\n",
            "Requirement already satisfied: pyvirtualdisplay in /usr/local/lib/python3.7/dist-packages (3.0)\n",
            "Looking in indexes: https://pypi.org/simple, https://us-python.pkg.dev/colab-wheels/public/simple/\n",
            "Requirement already satisfied: tf-agents[reverb] in /usr/local/lib/python3.7/dist-packages (0.13.0)\n",
            "Requirement already satisfied: wrapt>=1.11.1 in /usr/local/lib/python3.7/dist-packages (from tf-agents[reverb]) (1.14.1)\n",
            "Requirement already satisfied: gin-config>=0.4.0 in /usr/local/lib/python3.7/dist-packages (from tf-agents[reverb]) (0.5.0)\n",
            "Requirement already satisfied: pillow in /usr/local/lib/python3.7/dist-packages (from tf-agents[reverb]) (7.1.2)\n",
            "Requirement already satisfied: pygame==2.1.0 in /usr/local/lib/python3.7/dist-packages (from tf-agents[reverb]) (2.1.0)\n",
            "Requirement already satisfied: numpy>=1.13.3 in /usr/local/lib/python3.7/dist-packages (from tf-agents[reverb]) (1.21.6)\n",
            "Requirement already satisfied: gym<=0.23.0,>=0.17.0 in /usr/local/lib/python3.7/dist-packages (from tf-agents[reverb]) (0.23.0)\n",
            "Requirement already satisfied: cloudpickle>=1.3 in /usr/local/lib/python3.7/dist-packages (from tf-agents[reverb]) (1.5.0)\n",
            "Requirement already satisfied: protobuf>=3.11.3 in /usr/local/lib/python3.7/dist-packages (from tf-agents[reverb]) (3.17.3)\n",
            "Requirement already satisfied: six>=1.10.0 in /usr/local/lib/python3.7/dist-packages (from tf-agents[reverb]) (1.15.0)\n",
            "Requirement already satisfied: typing-extensions>=3.7.4.3 in /usr/local/lib/python3.7/dist-packages (from tf-agents[reverb]) (4.1.1)\n",
            "Requirement already satisfied: tensorflow-probability>=0.16.0 in /usr/local/lib/python3.7/dist-packages (from tf-agents[reverb]) (0.16.0)\n",
            "Requirement already satisfied: absl-py>=0.6.1 in /usr/local/lib/python3.7/dist-packages (from tf-agents[reverb]) (1.2.0)\n",
            "Requirement already satisfied: rlds in /usr/local/lib/python3.7/dist-packages (from tf-agents[reverb]) (0.1.5)\n",
            "Requirement already satisfied: dm-reverb~=0.8.0 in /usr/local/lib/python3.7/dist-packages (from tf-agents[reverb]) (0.8.0)\n",
            "Requirement already satisfied: tensorflow~=2.9.0 in /usr/local/lib/python3.7/dist-packages (from tf-agents[reverb]) (2.9.1)\n",
            "Requirement already satisfied: dm-tree in /usr/local/lib/python3.7/dist-packages (from dm-reverb~=0.8.0->tf-agents[reverb]) (0.1.7)\n",
            "Requirement already satisfied: portpicker in /usr/local/lib/python3.7/dist-packages (from dm-reverb~=0.8.0->tf-agents[reverb]) (1.3.9)\n",
            "Requirement already satisfied: gym-notices>=0.0.4 in /usr/local/lib/python3.7/dist-packages (from gym<=0.23.0,>=0.17.0->tf-agents[reverb]) (0.0.8)\n",
            "Requirement already satisfied: importlib-metadata>=4.10.0 in /usr/local/lib/python3.7/dist-packages (from gym<=0.23.0,>=0.17.0->tf-agents[reverb]) (4.12.0)\n",
            "Requirement already satisfied: zipp>=0.5 in /usr/local/lib/python3.7/dist-packages (from importlib-metadata>=4.10.0->gym<=0.23.0,>=0.17.0->tf-agents[reverb]) (3.8.1)\n",
            "Requirement already satisfied: keras-preprocessing>=1.1.1 in /usr/local/lib/python3.7/dist-packages (from tensorflow~=2.9.0->tf-agents[reverb]) (1.1.2)\n",
            "Requirement already satisfied: flatbuffers<2,>=1.12 in /usr/local/lib/python3.7/dist-packages (from tensorflow~=2.9.0->tf-agents[reverb]) (1.12)\n",
            "Requirement already satisfied: tensorboard<2.10,>=2.9 in /usr/local/lib/python3.7/dist-packages (from tensorflow~=2.9.0->tf-agents[reverb]) (2.9.1)\n",
            "Requirement already satisfied: termcolor>=1.1.0 in /usr/local/lib/python3.7/dist-packages (from tensorflow~=2.9.0->tf-agents[reverb]) (1.1.0)\n",
            "Requirement already satisfied: grpcio<2.0,>=1.24.3 in /usr/local/lib/python3.7/dist-packages (from tensorflow~=2.9.0->tf-agents[reverb]) (1.47.0)\n",
            "Requirement already satisfied: opt-einsum>=2.3.2 in /usr/local/lib/python3.7/dist-packages (from tensorflow~=2.9.0->tf-agents[reverb]) (3.3.0)\n",
            "Requirement already satisfied: tensorflow-io-gcs-filesystem>=0.23.1 in /usr/local/lib/python3.7/dist-packages (from tensorflow~=2.9.0->tf-agents[reverb]) (0.26.0)\n",
            "Requirement already satisfied: gast<=0.4.0,>=0.2.1 in /usr/local/lib/python3.7/dist-packages (from tensorflow~=2.9.0->tf-agents[reverb]) (0.3.3)\n",
            "Requirement already satisfied: setuptools in /usr/local/lib/python3.7/dist-packages (from tensorflow~=2.9.0->tf-agents[reverb]) (57.4.0)\n",
            "Requirement already satisfied: libclang>=13.0.0 in /usr/local/lib/python3.7/dist-packages (from tensorflow~=2.9.0->tf-agents[reverb]) (14.0.6)\n",
            "Requirement already satisfied: h5py>=2.9.0 in /usr/local/lib/python3.7/dist-packages (from tensorflow~=2.9.0->tf-agents[reverb]) (2.10.0)\n",
            "Requirement already satisfied: astunparse>=1.6.0 in /usr/local/lib/python3.7/dist-packages (from tensorflow~=2.9.0->tf-agents[reverb]) (1.6.3)\n",
            "Requirement already satisfied: google-pasta>=0.1.1 in /usr/local/lib/python3.7/dist-packages (from tensorflow~=2.9.0->tf-agents[reverb]) (0.2.0)\n",
            "Requirement already satisfied: packaging in /usr/local/lib/python3.7/dist-packages (from tensorflow~=2.9.0->tf-agents[reverb]) (21.3)\n",
            "Requirement already satisfied: keras<2.10.0,>=2.9.0rc0 in /usr/local/lib/python3.7/dist-packages (from tensorflow~=2.9.0->tf-agents[reverb]) (2.9.0)\n",
            "Requirement already satisfied: tensorflow-estimator<2.10.0,>=2.9.0rc0 in /usr/local/lib/python3.7/dist-packages (from tensorflow~=2.9.0->tf-agents[reverb]) (2.9.0)\n",
            "Requirement already satisfied: wheel<1.0,>=0.23.0 in /usr/local/lib/python3.7/dist-packages (from astunparse>=1.6.0->tensorflow~=2.9.0->tf-agents[reverb]) (0.37.1)\n",
            "Requirement already satisfied: requests<3,>=2.21.0 in /usr/local/lib/python3.7/dist-packages (from tensorboard<2.10,>=2.9->tensorflow~=2.9.0->tf-agents[reverb]) (2.23.0)\n",
            "Requirement already satisfied: tensorboard-data-server<0.7.0,>=0.6.0 in /usr/local/lib/python3.7/dist-packages (from tensorboard<2.10,>=2.9->tensorflow~=2.9.0->tf-agents[reverb]) (0.6.1)\n",
            "Requirement already satisfied: werkzeug>=1.0.1 in /usr/local/lib/python3.7/dist-packages (from tensorboard<2.10,>=2.9->tensorflow~=2.9.0->tf-agents[reverb]) (1.0.1)\n",
            "Requirement already satisfied: markdown>=2.6.8 in /usr/local/lib/python3.7/dist-packages (from tensorboard<2.10,>=2.9->tensorflow~=2.9.0->tf-agents[reverb]) (3.4.1)\n",
            "Requirement already satisfied: google-auth-oauthlib<0.5,>=0.4.1 in /usr/local/lib/python3.7/dist-packages (from tensorboard<2.10,>=2.9->tensorflow~=2.9.0->tf-agents[reverb]) (0.4.6)\n",
            "Requirement already satisfied: google-auth<3,>=1.6.3 in /usr/local/lib/python3.7/dist-packages (from tensorboard<2.10,>=2.9->tensorflow~=2.9.0->tf-agents[reverb]) (1.35.0)\n",
            "Requirement already satisfied: tensorboard-plugin-wit>=1.6.0 in /usr/local/lib/python3.7/dist-packages (from tensorboard<2.10,>=2.9->tensorflow~=2.9.0->tf-agents[reverb]) (1.8.1)\n",
            "Requirement already satisfied: cachetools<5.0,>=2.0.0 in /usr/local/lib/python3.7/dist-packages (from google-auth<3,>=1.6.3->tensorboard<2.10,>=2.9->tensorflow~=2.9.0->tf-agents[reverb]) (4.2.4)\n",
            "Requirement already satisfied: pyasn1-modules>=0.2.1 in /usr/local/lib/python3.7/dist-packages (from google-auth<3,>=1.6.3->tensorboard<2.10,>=2.9->tensorflow~=2.9.0->tf-agents[reverb]) (0.2.8)\n",
            "Requirement already satisfied: rsa<5,>=3.1.4 in /usr/local/lib/python3.7/dist-packages (from google-auth<3,>=1.6.3->tensorboard<2.10,>=2.9->tensorflow~=2.9.0->tf-agents[reverb]) (4.9)\n",
            "Requirement already satisfied: requests-oauthlib>=0.7.0 in /usr/local/lib/python3.7/dist-packages (from google-auth-oauthlib<0.5,>=0.4.1->tensorboard<2.10,>=2.9->tensorflow~=2.9.0->tf-agents[reverb]) (1.3.1)\n",
            "Requirement already satisfied: pyasn1<0.5.0,>=0.4.6 in /usr/local/lib/python3.7/dist-packages (from pyasn1-modules>=0.2.1->google-auth<3,>=1.6.3->tensorboard<2.10,>=2.9->tensorflow~=2.9.0->tf-agents[reverb]) (0.4.8)\n",
            "Requirement already satisfied: idna<3,>=2.5 in /usr/local/lib/python3.7/dist-packages (from requests<3,>=2.21.0->tensorboard<2.10,>=2.9->tensorflow~=2.9.0->tf-agents[reverb]) (2.10)\n",
            "Requirement already satisfied: certifi>=2017.4.17 in /usr/local/lib/python3.7/dist-packages (from requests<3,>=2.21.0->tensorboard<2.10,>=2.9->tensorflow~=2.9.0->tf-agents[reverb]) (2022.6.15)\n",
            "Requirement already satisfied: chardet<4,>=3.0.2 in /usr/local/lib/python3.7/dist-packages (from requests<3,>=2.21.0->tensorboard<2.10,>=2.9->tensorflow~=2.9.0->tf-agents[reverb]) (3.0.4)\n",
            "Requirement already satisfied: urllib3!=1.25.0,!=1.25.1,<1.26,>=1.21.1 in /usr/local/lib/python3.7/dist-packages (from requests<3,>=2.21.0->tensorboard<2.10,>=2.9->tensorflow~=2.9.0->tf-agents[reverb]) (1.24.3)\n",
            "Requirement already satisfied: oauthlib>=3.0.0 in /usr/local/lib/python3.7/dist-packages (from requests-oauthlib>=0.7.0->google-auth-oauthlib<0.5,>=0.4.1->tensorboard<2.10,>=2.9->tensorflow~=2.9.0->tf-agents[reverb]) (3.2.0)\n",
            "Requirement already satisfied: decorator in /usr/local/lib/python3.7/dist-packages (from tensorflow-probability>=0.16.0->tf-agents[reverb]) (4.4.2)\n",
            "Requirement already satisfied: pyparsing!=3.0.5,>=2.0.2 in /usr/local/lib/python3.7/dist-packages (from packaging->tensorflow~=2.9.0->tf-agents[reverb]) (3.0.9)\n",
            "Looking in indexes: https://pypi.org/simple, https://us-python.pkg.dev/colab-wheels/public/simple/\n",
            "Requirement already satisfied: pyglet in /usr/local/lib/python3.7/dist-packages (1.5.26)\n"
          ]
        }
      ]
    },
    {
      "cell_type": "code",
      "source": [
        "from __future__ import absolute_import, division, print_function\n",
        "\n",
        "import base64\n",
        "import imageio\n",
        "import IPython\n",
        "import matplotlib\n",
        "import matplotlib.pyplot as plt\n",
        "import numpy as np\n",
        "import PIL.Image\n",
        "import pyvirtualdisplay\n",
        "import reverb\n",
        "import gym\n",
        "\n",
        "import tensorflow as tf\n",
        "\n",
        "from tf_agents.agents.dqn import dqn_agent\n",
        "from tf_agents.drivers import py_driver\n",
        "from tf_agents.environments import suite_gym\n",
        "from tf_agents.environments import tf_py_environment\n",
        "from tf_agents.eval import metric_utils\n",
        "from tf_agents.metrics import tf_metrics\n",
        "from tf_agents.networks import sequential\n",
        "from tf_agents.policies import py_tf_eager_policy\n",
        "from tf_agents.policies import random_tf_policy\n",
        "from tf_agents.replay_buffers import reverb_replay_buffer\n",
        "from tf_agents.replay_buffers import reverb_utils\n",
        "from tf_agents.trajectories import trajectory\n",
        "from tf_agents.specs import tensor_spec\n",
        "from tf_agents.utils import common"
      ],
      "metadata": {
        "id": "6-39HaY582wh"
      },
      "execution_count": null,
      "outputs": []
    },
    {
      "cell_type": "code",
      "source": [
        "env_name = 'CartPole-v0'\n",
        "env = suite_gym.load(env_name)"
      ],
      "metadata": {
        "id": "ULTlwlAq82y6"
      },
      "execution_count": null,
      "outputs": []
    },
    {
      "cell_type": "code",
      "source": [
        "num_iterations = 10000 # @param {type:\"integer\"}\n",
        "\n",
        "initial_collect_steps = 100  # @param {type:\"integer\"}\n",
        "collect_steps_per_iteration = 1 # @param {type:\"integer\"}\n",
        "replay_buffer_max_length = 100000  # @param {type:\"integer\"}\n",
        "\n",
        "batch_size = 64  # @param {type:\"integer\"}\n",
        "learning_rate = 1e-3  # @param {type:\"number\"}\n",
        "log_interval = 200  # @param {type:\"integer\"}\n",
        "\n",
        "num_eval_episodes = 20  # @param {type:\"integer\"}\n",
        "eval_interval = 1000  # @param {type:\"integer\"}"
      ],
      "metadata": {
        "id": "zp-yFklW821q"
      },
      "execution_count": null,
      "outputs": []
    },
    {
      "cell_type": "code",
      "source": [
        "train_py_env = suite_gym.load(env_name)\n",
        "eval_py_env = suite_gym.load(env_name)\n",
        "train_env = tf_py_environment.TFPyEnvironment(train_py_env)\n",
        "eval_env = tf_py_environment.TFPyEnvironment(eval_py_env)"
      ],
      "metadata": {
        "id": "8Spk-Ed0824F"
      },
      "execution_count": null,
      "outputs": []
    },
    {
      "cell_type": "code",
      "source": [
        "fc_layer_params = (100, 50)\n",
        "action_tensor_spec = tensor_spec.from_spec(env.action_spec())\n",
        "num_actions = action_tensor_spec.maximum - action_tensor_spec.minimum + 1\n",
        "\n",
        "# Define a helper function to create Dense layers configured with the right\n",
        "# activation and kernel initializer.\n",
        "def dense_layer(num_units):\n",
        "  return tf.keras.layers.Dense(\n",
        "      num_units,\n",
        "      activation=tf.keras.activations.relu,\n",
        "      kernel_initializer=tf.keras.initializers.VarianceScaling(\n",
        "          scale=2.0, mode='fan_in', distribution='truncated_normal'))\n",
        "\n",
        "# QNetwork consists of a sequence of Dense layers followed by a dense layer\n",
        "# with `num_actions` units to generate one q_value per available action as\n",
        "# its output.\n",
        "dense_layers = [dense_layer(num_units) for num_units in fc_layer_params]\n",
        "q_values_layer = tf.keras.layers.Dense(\n",
        "    num_actions,\n",
        "    activation=None,\n",
        "    kernel_initializer=tf.keras.initializers.RandomUniform(\n",
        "        minval=-0.03, maxval=0.03),\n",
        "    bias_initializer=tf.keras.initializers.Constant(-0.2))\n",
        "q_net = sequential.Sequential(dense_layers + [q_values_layer])"
      ],
      "metadata": {
        "id": "tYOWCh_L826Q"
      },
      "execution_count": null,
      "outputs": []
    },
    {
      "cell_type": "code",
      "source": [
        "optimizer = tf.keras.optimizers.Adam(learning_rate=learning_rate)\n",
        "\n",
        "train_step_counter = tf.Variable(0)\n",
        "\n",
        "agent = dqn_agent.DqnAgent(\n",
        "    train_env.time_step_spec(),\n",
        "    train_env.action_spec(),\n",
        "    q_network=q_net,\n",
        "    optimizer=optimizer,\n",
        "    td_errors_loss_fn=common.element_wise_squared_loss,\n",
        "    train_step_counter=train_step_counter)\n",
        "\n",
        "agent.initialize()"
      ],
      "metadata": {
        "id": "e591NBx9828o"
      },
      "execution_count": null,
      "outputs": []
    },
    {
      "cell_type": "code",
      "source": [
        "eval_policy = agent.policy\n",
        "collect_policy = agent.collect_policy\n",
        "random_policy = random_tf_policy.RandomTFPolicy(train_env.time_step_spec(),\n",
        "                                                train_env.action_spec())"
      ],
      "metadata": {
        "id": "dka6Qath82_W"
      },
      "execution_count": null,
      "outputs": []
    },
    {
      "cell_type": "code",
      "source": [
        "def compute_avg_return(environment, policy, num_episodes=10):\n",
        "\n",
        "  total_return = 0.0\n",
        "  for _ in range(num_episodes):\n",
        "\n",
        "    time_step = environment.reset()\n",
        "    episode_return = 0.0\n",
        "\n",
        "    while not time_step.is_last():\n",
        "      action_step = policy.action(time_step)\n",
        "      time_step = environment.step(action_step.action)\n",
        "      episode_return += time_step.reward\n",
        "    total_return += episode_return\n",
        "\n",
        "  avg_return = total_return / num_episodes\n",
        "  return avg_return.numpy()[0]"
      ],
      "metadata": {
        "id": "awiy0-3883CP"
      },
      "execution_count": null,
      "outputs": []
    },
    {
      "cell_type": "code",
      "source": [
        "compute_avg_return(eval_env, random_policy, num_eval_episodes)"
      ],
      "metadata": {
        "colab": {
          "base_uri": "https://localhost:8080/"
        },
        "id": "dSLQPZME83E0",
        "outputId": "e40406bb-16cb-44b7-dc83-1852699e4b41"
      },
      "execution_count": null,
      "outputs": [
        {
          "output_type": "execute_result",
          "data": {
            "text/plain": [
              "25.9"
            ]
          },
          "metadata": {},
          "execution_count": 11
        }
      ]
    },
    {
      "cell_type": "code",
      "source": [
        "table_name = 'uniform_table'\n",
        "replay_buffer_signature = tensor_spec.from_spec(\n",
        "      agent.collect_data_spec)\n",
        "replay_buffer_signature = tensor_spec.add_outer_dim(\n",
        "    replay_buffer_signature)\n",
        "\n",
        "table = reverb.Table(\n",
        "    table_name,\n",
        "    max_size=replay_buffer_max_length,\n",
        "    sampler=reverb.selectors.Uniform(),\n",
        "    remover=reverb.selectors.Fifo(),\n",
        "    rate_limiter=reverb.rate_limiters.MinSize(1),\n",
        "    signature=replay_buffer_signature)\n",
        "\n",
        "reverb_server = reverb.Server([table])\n",
        "\n",
        "replay_buffer = reverb_replay_buffer.ReverbReplayBuffer(\n",
        "    agent.collect_data_spec,\n",
        "    table_name=table_name,\n",
        "    sequence_length=2,\n",
        "    local_server=reverb_server)\n",
        "\n",
        "rb_observer = reverb_utils.ReverbAddTrajectoryObserver(\n",
        "  replay_buffer.py_client,\n",
        "  table_name,\n",
        "  sequence_length=2)"
      ],
      "metadata": {
        "id": "BmzlyX9U83Hp"
      },
      "execution_count": null,
      "outputs": []
    },
    {
      "cell_type": "code",
      "source": [
        "agent.collect_data_spec\n",
        "agent.collect_data_spec._fields"
      ],
      "metadata": {
        "colab": {
          "base_uri": "https://localhost:8080/"
        },
        "id": "Y4f7pPCV83KK",
        "outputId": "27b44305-0081-4456-b426-ade771caffd8"
      },
      "execution_count": null,
      "outputs": [
        {
          "output_type": "execute_result",
          "data": {
            "text/plain": [
              "('step_type',\n",
              " 'observation',\n",
              " 'action',\n",
              " 'policy_info',\n",
              " 'next_step_type',\n",
              " 'reward',\n",
              " 'discount')"
            ]
          },
          "metadata": {},
          "execution_count": 13
        }
      ]
    },
    {
      "cell_type": "code",
      "source": [
        "py_driver.PyDriver(\n",
        "    env,\n",
        "    py_tf_eager_policy.PyTFEagerPolicy(\n",
        "      random_policy, use_tf_function=True),\n",
        "    [rb_observer],\n",
        "    max_steps=initial_collect_steps).run(train_py_env.reset())"
      ],
      "metadata": {
        "colab": {
          "base_uri": "https://localhost:8080/"
        },
        "id": "jk-GFcw383Nd",
        "outputId": "eeea6b10-b3e2-4e00-eecc-01df643d102f"
      },
      "execution_count": null,
      "outputs": [
        {
          "output_type": "execute_result",
          "data": {
            "text/plain": [
              "(TimeStep(\n",
              " {'discount': array(0., dtype=float32),\n",
              "  'observation': array([ 0.15134448,  1.1901444 , -0.21252759, -1.9044948 ], dtype=float32),\n",
              "  'reward': array(1., dtype=float32),\n",
              "  'step_type': array(2, dtype=int32)}), ())"
            ]
          },
          "metadata": {},
          "execution_count": 14
        }
      ]
    },
    {
      "cell_type": "code",
      "source": [
        "# Dataset generates trajectories with shape [Bx2x...]\n",
        "dataset = replay_buffer.as_dataset(\n",
        "    num_parallel_calls=3,\n",
        "    sample_batch_size=batch_size,\n",
        "    num_steps=2).prefetch(3)\n",
        "\n",
        "dataset\n",
        "iterator = iter(dataset)\n",
        "print(iterator)"
      ],
      "metadata": {
        "colab": {
          "base_uri": "https://localhost:8080/"
        },
        "id": "SpYwTmae9gwh",
        "outputId": "0db2f594-44b3-4033-a701-d5c1fbb50fef"
      },
      "execution_count": null,
      "outputs": [
        {
          "output_type": "stream",
          "name": "stdout",
          "text": [
            "<tensorflow.python.data.ops.iterator_ops.OwnedIterator object at 0x7f856bfc28d0>\n"
          ]
        }
      ]
    },
    {
      "cell_type": "code",
      "source": [
        "try:\n",
        "  %%time\n",
        "except:\n",
        "  pass\n",
        "\n",
        "# (Optional) Optimize by wrapping some of the code in a graph using TF function.\n",
        "agent.train = common.function(agent.train)\n",
        "\n",
        "# Reset the train step.\n",
        "agent.train_step_counter.assign(0)\n",
        "\n",
        "# Evaluate the agent's policy once before training.\n",
        "avg_return = compute_avg_return(eval_env, agent.policy, num_eval_episodes)\n",
        "returns = [avg_return]\n",
        "\n",
        "# Reset the environment.\n",
        "time_step = train_py_env.reset()\n",
        "\n",
        "# Create a driver to collect experience.\n",
        "collect_driver = py_driver.PyDriver(\n",
        "    env,\n",
        "    py_tf_eager_policy.PyTFEagerPolicy(\n",
        "      agent.collect_policy, use_tf_function=True),\n",
        "    [rb_observer],\n",
        "    max_steps=collect_steps_per_iteration)\n",
        "\n",
        "for _ in range(num_iterations):\n",
        "\n",
        "  # Collect a few steps and save to the replay buffer.\n",
        "  time_step, _ = collect_driver.run(time_step)\n",
        "\n",
        "  # Sample a batch of data from the buffer and update the agent's network.\n",
        "  experience, unused_info = next(iterator)\n",
        "  train_loss = agent.train(experience).loss\n",
        "\n",
        "  step = agent.train_step_counter.numpy()\n",
        "\n",
        "  if step % log_interval == 0:\n",
        "    print('step = {0}: loss = {1}'.format(step, train_loss))\n",
        "\n",
        "  if step % eval_interval == 0:\n",
        "    avg_return = compute_avg_return(eval_env, agent.policy, num_eval_episodes)\n",
        "    print('step = {0}: Average Return = {1}'.format(step, avg_return))\n",
        "    returns.append(avg_return)"
      ],
      "metadata": {
        "colab": {
          "base_uri": "https://localhost:8080/"
        },
        "id": "77sywrWX9gzm",
        "outputId": "38a2cb6f-c47f-4142-8e54-cd525258b9eb"
      },
      "execution_count": null,
      "outputs": [
        {
          "output_type": "stream",
          "name": "stderr",
          "text": [
            "WARNING:tensorflow:From /usr/local/lib/python3.7/dist-packages/tensorflow/python/util/dispatch.py:1082: calling foldr_v2 (from tensorflow.python.ops.functional_ops) with back_prop=False is deprecated and will be removed in a future version.\n",
            "Instructions for updating:\n",
            "back_prop=False is deprecated. Consider using tf.stop_gradient instead.\n",
            "Instead of:\n",
            "results = tf.foldr(fn, elems, back_prop=False)\n",
            "Use:\n",
            "results = tf.nest.map_structure(tf.stop_gradient, tf.foldr(fn, elems))\n"
          ]
        },
        {
          "output_type": "stream",
          "name": "stdout",
          "text": [
            "step = 200: loss = 24.732250213623047\n",
            "step = 400: loss = 1.7360987663269043\n",
            "step = 600: loss = 30.060609817504883\n",
            "step = 800: loss = 89.10052490234375\n",
            "step = 1000: loss = 67.4189224243164\n",
            "step = 1000: Average Return = 92.0\n",
            "step = 1200: loss = 294.8477478027344\n",
            "step = 1400: loss = 203.28744506835938\n",
            "step = 1600: loss = 58.353050231933594\n",
            "step = 1800: loss = 119.88228607177734\n",
            "step = 2000: loss = 602.300537109375\n",
            "step = 2000: Average Return = 51.0\n",
            "step = 2200: loss = 95.66868591308594\n",
            "step = 2400: loss = 46.98866271972656\n",
            "step = 2600: loss = 29.3885440826416\n",
            "step = 2800: loss = 33.58258056640625\n",
            "step = 3000: loss = 16.691349029541016\n",
            "step = 3000: Average Return = 77.8499984741211\n",
            "step = 3200: loss = 13.518373489379883\n",
            "step = 3400: loss = 24.236507415771484\n",
            "step = 3600: loss = 15.8800048828125\n",
            "step = 3800: loss = 16.19216537475586\n",
            "step = 4000: loss = 15.823516845703125\n",
            "step = 4000: Average Return = 182.64999389648438\n",
            "step = 4200: loss = 16.447429656982422\n",
            "step = 4400: loss = 7.367780685424805\n",
            "step = 4600: loss = 28.37320327758789\n",
            "step = 4800: loss = 10.257041931152344\n",
            "step = 5000: loss = 46.03394317626953\n",
            "step = 5000: Average Return = 198.3000030517578\n",
            "step = 5200: loss = 22.785564422607422\n",
            "step = 5400: loss = 35.40253448486328\n",
            "step = 5600: loss = 50.44752502441406\n",
            "step = 5800: loss = 57.59840393066406\n",
            "step = 6000: loss = 58.046722412109375\n",
            "step = 6000: Average Return = 200.0\n",
            "step = 6200: loss = 18.728784561157227\n",
            "step = 6400: loss = 29.84893798828125\n",
            "step = 6600: loss = 86.350830078125\n",
            "step = 6800: loss = 13.659553527832031\n",
            "step = 7000: loss = 67.09120178222656\n",
            "step = 7000: Average Return = 200.0\n",
            "step = 7200: loss = 106.10042572021484\n",
            "step = 7400: loss = 58.781890869140625\n",
            "step = 7600: loss = 3551.31201171875\n",
            "step = 7800: loss = 51.34828567504883\n",
            "step = 8000: loss = 65.00470733642578\n",
            "step = 8000: Average Return = 200.0\n",
            "step = 8200: loss = 70.7041015625\n",
            "step = 8400: loss = 758.804443359375\n",
            "step = 8600: loss = 1067.1329345703125\n",
            "step = 8800: loss = 68778.2890625\n",
            "step = 9000: loss = 545.7938842773438\n",
            "step = 9000: Average Return = 200.0\n",
            "step = 9200: loss = 1039.6292724609375\n",
            "step = 9400: loss = 978.1467895507812\n",
            "step = 9600: loss = 48942.54296875\n",
            "step = 9800: loss = 302.3236999511719\n",
            "step = 10000: loss = 42674.05859375\n",
            "step = 10000: Average Return = 200.0\n"
          ]
        }
      ]
    },
    {
      "cell_type": "code",
      "source": [
        "iterations = range(0, num_iterations + 1, eval_interval)\n",
        "plt.plot(iterations, returns)\n",
        "plt.ylabel('Average Return')\n",
        "plt.xlabel('Iterations')\n",
        "plt.ylim(top=250)"
      ],
      "metadata": {
        "colab": {
          "base_uri": "https://localhost:8080/",
          "height": 300
        },
        "id": "MYofi6dC9g2G",
        "outputId": "44c34065-450f-4362-d352-18a931dacf1b"
      },
      "execution_count": null,
      "outputs": [
        {
          "output_type": "execute_result",
          "data": {
            "text/plain": [
              "(0.657499599456786, 250.0)"
            ]
          },
          "metadata": {},
          "execution_count": 17
        },
        {
          "output_type": "display_data",
          "data": {
            "text/plain": [
              "<Figure size 432x288 with 1 Axes>"
            ],
            "image/png": "[encoded data removed]"
          },
          "metadata": {
            "needs_background": "light"
          }
        }
      ]
    },
    {
      "cell_type": "markdown",
      "source": [
        "**Result**"
      ],
      "metadata": {
        "id": "FB823Fw09pph"
      }
    },
    {
      "cell_type": "markdown",
      "source": [
        "Yes they Differ.."
      ],
      "metadata": {
        "id": "jph6lYyWGwQ0"
      }
    },
    {
      "cell_type": "markdown",
      "source": [
        "\n",
        "\n",
        "*   The performance of the TF-Agents library is good and quick when compared to the Keras-RL library.\n",
        "*   It is obvious that training TF -Agents requires less iterations. When you look at the graph, the agent eventually reaches its maximum reward and stays constant, however Keras RL is not stable and does not behave in this way.\n",
        "*   This might be the result of a lack of updates, which is not the case with TF- Agents, which was released recently and has more advantages than KerasRL.\n",
        "And mainly TF-Agents has TensorBoard utility.\n",
        "\n",
        "\n",
        "\n"
      ],
      "metadata": {
        "id": "jqPN9jBl9s48"
      }
    }
  ]
}